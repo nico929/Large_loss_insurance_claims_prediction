{
 "cells": [
  {
   "cell_type": "code",
   "execution_count": 1,
   "metadata": {
    "collapsed": true,
    "scrolled": false
   },
   "outputs": [],
   "source": [
    "import numpy as np\n",
    "import pandas as pd\n",
    "import re\n",
    "import seaborn as sns\n",
    "import matplotlib.pyplot as plt\n",
    "from sklearn.feature_extraction.text import CountVectorizer\n",
    "from sklearn.metrics.pairwise import euclidean_distances"
   ]
  },
  {
   "cell_type": "code",
   "execution_count": 2,
   "metadata": {},
   "outputs": [
    {
     "data": {
      "text/plain": [
       "(518077, 76)"
      ]
     },
     "execution_count": 2,
     "metadata": {},
     "output_type": "execute_result"
    }
   ],
   "source": [
    "# reading csv claimdata_utf8\n",
    "# check number of observations and features\n",
    "lloss = pd.read_csv('claimdata_utf8.csv', low_memory=False)\n",
    "lloss.shape"
   ]
  },
  {
   "cell_type": "markdown",
   "metadata": {},
   "source": [
    "*** There are 518077 records and 76 variables(including target variable \"EV_LARGE\")***\n",
    "##### Column 41 has mixed data type."
   ]
  },
  {
   "cell_type": "code",
   "execution_count": 3,
   "metadata": {
    "scrolled": true
   },
   "outputs": [
    {
     "data": {
      "text/html": [
       "<div>\n",
       "<style>\n",
       "    .dataframe thead tr:only-child th {\n",
       "        text-align: right;\n",
       "    }\n",
       "\n",
       "    .dataframe thead th {\n",
       "        text-align: left;\n",
       "    }\n",
       "\n",
       "    .dataframe tbody tr th {\n",
       "        vertical-align: top;\n",
       "    }\n",
       "</style>\n",
       "<table border=\"1\" class=\"dataframe\">\n",
       "  <thead>\n",
       "    <tr style=\"text-align: right;\">\n",
       "      <th></th>\n",
       "      <th>Event_Number</th>\n",
       "      <th>Claim_Number</th>\n",
       "      <th>Event_Occurrence_Month</th>\n",
       "      <th>Inception_Month</th>\n",
       "      <th>Issued_Date</th>\n",
       "      <th>Issued_Time</th>\n",
       "      <th>Coverage1</th>\n",
       "      <th>Coverage2</th>\n",
       "      <th>PI_Class</th>\n",
       "      <th>IN_OUTPATIENT</th>\n",
       "      <th>...</th>\n",
       "      <th>Car_Age</th>\n",
       "      <th>Previous_Accidents</th>\n",
       "      <th>Insured_Sex</th>\n",
       "      <th>Insured_Age</th>\n",
       "      <th>Insured_Age_Range</th>\n",
       "      <th>Region</th>\n",
       "      <th>Prefecture</th>\n",
       "      <th>Prev_Insurer_Category</th>\n",
       "      <th>Original_Channel</th>\n",
       "      <th>Renewal_Times</th>\n",
       "    </tr>\n",
       "  </thead>\n",
       "  <tbody>\n",
       "    <tr>\n",
       "      <th>0</th>\n",
       "      <td>7541881</td>\n",
       "      <td>NaN</td>\n",
       "      <td>2011/1/1</td>\n",
       "      <td>2010/4/1</td>\n",
       "      <td>2010/4/24</td>\n",
       "      <td>14:23</td>\n",
       "      <td>NaN</td>\n",
       "      <td>NaN</td>\n",
       "      <td>NaN</td>\n",
       "      <td>NaN</td>\n",
       "      <td>...</td>\n",
       "      <td>12</td>\n",
       "      <td>0</td>\n",
       "      <td>2</td>\n",
       "      <td>36</td>\n",
       "      <td>30-39</td>\n",
       "      <td>(02) 東北</td>\n",
       "      <td>福島県</td>\n",
       "      <td>(02) Non Direct</td>\n",
       "      <td>(01) Phone</td>\n",
       "      <td>7</td>\n",
       "    </tr>\n",
       "    <tr>\n",
       "      <th>1</th>\n",
       "      <td>7541914</td>\n",
       "      <td>8981138.0</td>\n",
       "      <td>2011/1/1</td>\n",
       "      <td>2010/12/1</td>\n",
       "      <td>2010/11/11</td>\n",
       "      <td>16:37</td>\n",
       "      <td>6.0</td>\n",
       "      <td>6.0</td>\n",
       "      <td>3.0</td>\n",
       "      <td>1.0</td>\n",
       "      <td>...</td>\n",
       "      <td>0</td>\n",
       "      <td>0</td>\n",
       "      <td>1</td>\n",
       "      <td>61</td>\n",
       "      <td>60-</td>\n",
       "      <td>(07) 九州</td>\n",
       "      <td>福岡県</td>\n",
       "      <td>(02) Non Direct</td>\n",
       "      <td>(01) Phone</td>\n",
       "      <td>7</td>\n",
       "    </tr>\n",
       "    <tr>\n",
       "      <th>2</th>\n",
       "      <td>7541914</td>\n",
       "      <td>8981144.0</td>\n",
       "      <td>2011/1/1</td>\n",
       "      <td>2010/12/1</td>\n",
       "      <td>2010/11/11</td>\n",
       "      <td>16:37</td>\n",
       "      <td>3.0</td>\n",
       "      <td>3.0</td>\n",
       "      <td>3.0</td>\n",
       "      <td>1.0</td>\n",
       "      <td>...</td>\n",
       "      <td>0</td>\n",
       "      <td>0</td>\n",
       "      <td>1</td>\n",
       "      <td>61</td>\n",
       "      <td>60-</td>\n",
       "      <td>(07) 九州</td>\n",
       "      <td>福岡県</td>\n",
       "      <td>(02) Non Direct</td>\n",
       "      <td>(01) Phone</td>\n",
       "      <td>7</td>\n",
       "    </tr>\n",
       "    <tr>\n",
       "      <th>3</th>\n",
       "      <td>7541936</td>\n",
       "      <td>8960750.0</td>\n",
       "      <td>2011/1/1</td>\n",
       "      <td>2010/2/1</td>\n",
       "      <td>2010/2/8</td>\n",
       "      <td>14:32</td>\n",
       "      <td>2.0</td>\n",
       "      <td>2.0</td>\n",
       "      <td>NaN</td>\n",
       "      <td>NaN</td>\n",
       "      <td>...</td>\n",
       "      <td>13</td>\n",
       "      <td>0</td>\n",
       "      <td>1</td>\n",
       "      <td>48</td>\n",
       "      <td>40-49</td>\n",
       "      <td>(07) 九州</td>\n",
       "      <td>熊本県</td>\n",
       "      <td>(99) New</td>\n",
       "      <td>(01) Phone</td>\n",
       "      <td>1</td>\n",
       "    </tr>\n",
       "    <tr>\n",
       "      <th>4</th>\n",
       "      <td>7541986</td>\n",
       "      <td>8960833.0</td>\n",
       "      <td>2011/1/1</td>\n",
       "      <td>2010/6/1</td>\n",
       "      <td>2010/6/4</td>\n",
       "      <td>14:26</td>\n",
       "      <td>2.0</td>\n",
       "      <td>2.0</td>\n",
       "      <td>NaN</td>\n",
       "      <td>NaN</td>\n",
       "      <td>...</td>\n",
       "      <td>7</td>\n",
       "      <td>0</td>\n",
       "      <td>1</td>\n",
       "      <td>67</td>\n",
       "      <td>60-</td>\n",
       "      <td>(03) 関東</td>\n",
       "      <td>茨城県</td>\n",
       "      <td>(02) Non Direct</td>\n",
       "      <td>(03) Broker</td>\n",
       "      <td>1</td>\n",
       "    </tr>\n",
       "  </tbody>\n",
       "</table>\n",
       "<p>5 rows × 76 columns</p>\n",
       "</div>"
      ],
      "text/plain": [
       "   Event_Number  Claim_Number Event_Occurrence_Month Inception_Month  \\\n",
       "0       7541881           NaN               2011/1/1        2010/4/1   \n",
       "1       7541914     8981138.0               2011/1/1       2010/12/1   \n",
       "2       7541914     8981144.0               2011/1/1       2010/12/1   \n",
       "3       7541936     8960750.0               2011/1/1        2010/2/1   \n",
       "4       7541986     8960833.0               2011/1/1        2010/6/1   \n",
       "\n",
       "  Issued_Date Issued_Time  Coverage1  Coverage2  PI_Class  IN_OUTPATIENT  \\\n",
       "0   2010/4/24       14:23        NaN        NaN       NaN            NaN   \n",
       "1  2010/11/11       16:37        6.0        6.0       3.0            1.0   \n",
       "2  2010/11/11       16:37        3.0        3.0       3.0            1.0   \n",
       "3    2010/2/8       14:32        2.0        2.0       NaN            NaN   \n",
       "4    2010/6/4       14:26        2.0        2.0       NaN            NaN   \n",
       "\n",
       "       ...        Car_Age Previous_Accidents Insured_Sex  Insured_Age  \\\n",
       "0      ...             12                  0           2           36   \n",
       "1      ...              0                  0           1           61   \n",
       "2      ...              0                  0           1           61   \n",
       "3      ...             13                  0           1           48   \n",
       "4      ...              7                  0           1           67   \n",
       "\n",
       "  Insured_Age_Range   Region  Prefecture  Prev_Insurer_Category  \\\n",
       "0             30-39  (02) 東北         福島県        (02) Non Direct   \n",
       "1               60-  (07) 九州         福岡県        (02) Non Direct   \n",
       "2               60-  (07) 九州         福岡県        (02) Non Direct   \n",
       "3             40-49  (07) 九州         熊本県               (99) New   \n",
       "4               60-  (03) 関東         茨城県        (02) Non Direct   \n",
       "\n",
       "   Original_Channel  Renewal_Times  \n",
       "0        (01) Phone              7  \n",
       "1        (01) Phone              7  \n",
       "2        (01) Phone              7  \n",
       "3        (01) Phone              1  \n",
       "4       (03) Broker              1  \n",
       "\n",
       "[5 rows x 76 columns]"
      ]
     },
     "execution_count": 3,
     "metadata": {},
     "output_type": "execute_result"
    }
   ],
   "source": [
    "lloss.head()"
   ]
  },
  {
   "cell_type": "code",
   "execution_count": 4,
   "metadata": {},
   "outputs": [
    {
     "data": {
      "text/html": [
       "<div>\n",
       "<style>\n",
       "    .dataframe thead tr:only-child th {\n",
       "        text-align: right;\n",
       "    }\n",
       "\n",
       "    .dataframe thead th {\n",
       "        text-align: left;\n",
       "    }\n",
       "\n",
       "    .dataframe tbody tr th {\n",
       "        vertical-align: top;\n",
       "    }\n",
       "</style>\n",
       "<table border=\"1\" class=\"dataframe\">\n",
       "  <thead>\n",
       "    <tr style=\"text-align: right;\">\n",
       "      <th></th>\n",
       "      <th>Event_Number</th>\n",
       "      <th>Claim_Number</th>\n",
       "      <th>Coverage1</th>\n",
       "      <th>Coverage2</th>\n",
       "      <th>PI_Class</th>\n",
       "      <th>IN_OUTPATIENT</th>\n",
       "      <th>Incurred</th>\n",
       "      <th>Contract_Status</th>\n",
       "      <th>Annual_Premium</th>\n",
       "      <th>Annual_Premium_BIL</th>\n",
       "      <th>...</th>\n",
       "      <th>EQ_Coverage</th>\n",
       "      <th>License_Color</th>\n",
       "      <th>Mileage</th>\n",
       "      <th>Usage</th>\n",
       "      <th>Car_Type</th>\n",
       "      <th>Car_Age</th>\n",
       "      <th>Previous_Accidents</th>\n",
       "      <th>Insured_Sex</th>\n",
       "      <th>Insured_Age</th>\n",
       "      <th>Renewal_Times</th>\n",
       "    </tr>\n",
       "  </thead>\n",
       "  <tbody>\n",
       "    <tr>\n",
       "      <th>count</th>\n",
       "      <td>5.180770e+05</td>\n",
       "      <td>4.621880e+05</td>\n",
       "      <td>462188.000000</td>\n",
       "      <td>462188.000000</td>\n",
       "      <td>95185.000000</td>\n",
       "      <td>74812.000000</td>\n",
       "      <td>5.180770e+05</td>\n",
       "      <td>517770.000000</td>\n",
       "      <td>518077.000000</td>\n",
       "      <td>518077.000000</td>\n",
       "      <td>...</td>\n",
       "      <td>518077.000000</td>\n",
       "      <td>518077.000000</td>\n",
       "      <td>518077.000000</td>\n",
       "      <td>518077.000000</td>\n",
       "      <td>518077.000000</td>\n",
       "      <td>518077.000000</td>\n",
       "      <td>518077.000000</td>\n",
       "      <td>518077.000000</td>\n",
       "      <td>518077.000000</td>\n",
       "      <td>518077.000000</td>\n",
       "    </tr>\n",
       "    <tr>\n",
       "      <th>mean</th>\n",
       "      <td>9.720327e+06</td>\n",
       "      <td>1.171118e+07</td>\n",
       "      <td>3.116505</td>\n",
       "      <td>3.684801</td>\n",
       "      <td>2.925892</td>\n",
       "      <td>2.326940</td>\n",
       "      <td>1.653272e+05</td>\n",
       "      <td>8.630765</td>\n",
       "      <td>56748.640221</td>\n",
       "      <td>9884.482295</td>\n",
       "      <td>...</td>\n",
       "      <td>0.013085</td>\n",
       "      <td>2.566518</td>\n",
       "      <td>1.596533</td>\n",
       "      <td>2.248594</td>\n",
       "      <td>1.967113</td>\n",
       "      <td>5.904676</td>\n",
       "      <td>0.078519</td>\n",
       "      <td>1.416633</td>\n",
       "      <td>45.668277</td>\n",
       "      <td>3.290046</td>\n",
       "    </tr>\n",
       "    <tr>\n",
       "      <th>std</th>\n",
       "      <td>1.248416e+06</td>\n",
       "      <td>1.555914e+06</td>\n",
       "      <td>1.571757</td>\n",
       "      <td>2.453307</td>\n",
       "      <td>0.318921</td>\n",
       "      <td>1.210362</td>\n",
       "      <td>9.215794e+05</td>\n",
       "      <td>3.952935</td>\n",
       "      <td>32042.557641</td>\n",
       "      <td>6030.328908</td>\n",
       "      <td>...</td>\n",
       "      <td>0.113639</td>\n",
       "      <td>0.524390</td>\n",
       "      <td>0.684723</td>\n",
       "      <td>0.468868</td>\n",
       "      <td>0.844692</td>\n",
       "      <td>4.347452</td>\n",
       "      <td>0.268987</td>\n",
       "      <td>0.493001</td>\n",
       "      <td>14.557836</td>\n",
       "      <td>3.098196</td>\n",
       "    </tr>\n",
       "    <tr>\n",
       "      <th>min</th>\n",
       "      <td>7.541881e+06</td>\n",
       "      <td>8.960750e+06</td>\n",
       "      <td>1.000000</td>\n",
       "      <td>1.000000</td>\n",
       "      <td>1.000000</td>\n",
       "      <td>1.000000</td>\n",
       "      <td>-1.193140e+06</td>\n",
       "      <td>6.000000</td>\n",
       "      <td>8870.000000</td>\n",
       "      <td>2023.000000</td>\n",
       "      <td>...</td>\n",
       "      <td>0.000000</td>\n",
       "      <td>1.000000</td>\n",
       "      <td>1.000000</td>\n",
       "      <td>1.000000</td>\n",
       "      <td>1.000000</td>\n",
       "      <td>0.000000</td>\n",
       "      <td>0.000000</td>\n",
       "      <td>1.000000</td>\n",
       "      <td>17.000000</td>\n",
       "      <td>0.000000</td>\n",
       "    </tr>\n",
       "    <tr>\n",
       "      <th>25%</th>\n",
       "      <td>8.616463e+06</td>\n",
       "      <td>1.033523e+07</td>\n",
       "      <td>2.000000</td>\n",
       "      <td>2.000000</td>\n",
       "      <td>3.000000</td>\n",
       "      <td>1.000000</td>\n",
       "      <td>0.000000e+00</td>\n",
       "      <td>7.000000</td>\n",
       "      <td>36470.000000</td>\n",
       "      <td>6420.000000</td>\n",
       "      <td>...</td>\n",
       "      <td>0.000000</td>\n",
       "      <td>2.000000</td>\n",
       "      <td>1.000000</td>\n",
       "      <td>2.000000</td>\n",
       "      <td>1.000000</td>\n",
       "      <td>2.000000</td>\n",
       "      <td>0.000000</td>\n",
       "      <td>1.000000</td>\n",
       "      <td>35.000000</td>\n",
       "      <td>1.000000</td>\n",
       "    </tr>\n",
       "    <tr>\n",
       "      <th>50%</th>\n",
       "      <td>9.758577e+06</td>\n",
       "      <td>1.177668e+07</td>\n",
       "      <td>3.000000</td>\n",
       "      <td>3.000000</td>\n",
       "      <td>3.000000</td>\n",
       "      <td>3.000000</td>\n",
       "      <td>5.000000e+04</td>\n",
       "      <td>7.000000</td>\n",
       "      <td>49580.000000</td>\n",
       "      <td>8265.000000</td>\n",
       "      <td>...</td>\n",
       "      <td>0.000000</td>\n",
       "      <td>3.000000</td>\n",
       "      <td>1.000000</td>\n",
       "      <td>2.000000</td>\n",
       "      <td>2.000000</td>\n",
       "      <td>6.000000</td>\n",
       "      <td>0.000000</td>\n",
       "      <td>1.000000</td>\n",
       "      <td>42.000000</td>\n",
       "      <td>2.000000</td>\n",
       "    </tr>\n",
       "    <tr>\n",
       "      <th>75%</th>\n",
       "      <td>1.075232e+07</td>\n",
       "      <td>1.305748e+07</td>\n",
       "      <td>4.000000</td>\n",
       "      <td>4.000000</td>\n",
       "      <td>3.000000</td>\n",
       "      <td>3.000000</td>\n",
       "      <td>1.768420e+05</td>\n",
       "      <td>7.000000</td>\n",
       "      <td>67800.000000</td>\n",
       "      <td>11304.000000</td>\n",
       "      <td>...</td>\n",
       "      <td>0.000000</td>\n",
       "      <td>3.000000</td>\n",
       "      <td>2.000000</td>\n",
       "      <td>3.000000</td>\n",
       "      <td>3.000000</td>\n",
       "      <td>9.000000</td>\n",
       "      <td>0.000000</td>\n",
       "      <td>2.000000</td>\n",
       "      <td>56.000000</td>\n",
       "      <td>5.000000</td>\n",
       "    </tr>\n",
       "    <tr>\n",
       "      <th>max</th>\n",
       "      <td>1.239077e+07</td>\n",
       "      <td>1.492181e+07</td>\n",
       "      <td>10.000000</td>\n",
       "      <td>19.000000</td>\n",
       "      <td>3.000000</td>\n",
       "      <td>5.000000</td>\n",
       "      <td>2.000270e+08</td>\n",
       "      <td>24.000000</td>\n",
       "      <td>612000.000000</td>\n",
       "      <td>118572.000000</td>\n",
       "      <td>...</td>\n",
       "      <td>1.000000</td>\n",
       "      <td>3.000000</td>\n",
       "      <td>3.000000</td>\n",
       "      <td>3.000000</td>\n",
       "      <td>6.000000</td>\n",
       "      <td>80.000000</td>\n",
       "      <td>1.000000</td>\n",
       "      <td>2.000000</td>\n",
       "      <td>98.000000</td>\n",
       "      <td>15.000000</td>\n",
       "    </tr>\n",
       "  </tbody>\n",
       "</table>\n",
       "<p>8 rows × 55 columns</p>\n",
       "</div>"
      ],
      "text/plain": [
       "       Event_Number  Claim_Number      Coverage1      Coverage2      PI_Class  \\\n",
       "count  5.180770e+05  4.621880e+05  462188.000000  462188.000000  95185.000000   \n",
       "mean   9.720327e+06  1.171118e+07       3.116505       3.684801      2.925892   \n",
       "std    1.248416e+06  1.555914e+06       1.571757       2.453307      0.318921   \n",
       "min    7.541881e+06  8.960750e+06       1.000000       1.000000      1.000000   \n",
       "25%    8.616463e+06  1.033523e+07       2.000000       2.000000      3.000000   \n",
       "50%    9.758577e+06  1.177668e+07       3.000000       3.000000      3.000000   \n",
       "75%    1.075232e+07  1.305748e+07       4.000000       4.000000      3.000000   \n",
       "max    1.239077e+07  1.492181e+07      10.000000      19.000000      3.000000   \n",
       "\n",
       "       IN_OUTPATIENT      Incurred  Contract_Status  Annual_Premium  \\\n",
       "count   74812.000000  5.180770e+05    517770.000000   518077.000000   \n",
       "mean        2.326940  1.653272e+05         8.630765    56748.640221   \n",
       "std         1.210362  9.215794e+05         3.952935    32042.557641   \n",
       "min         1.000000 -1.193140e+06         6.000000     8870.000000   \n",
       "25%         1.000000  0.000000e+00         7.000000    36470.000000   \n",
       "50%         3.000000  5.000000e+04         7.000000    49580.000000   \n",
       "75%         3.000000  1.768420e+05         7.000000    67800.000000   \n",
       "max         5.000000  2.000270e+08        24.000000   612000.000000   \n",
       "\n",
       "       Annual_Premium_BIL      ...          EQ_Coverage  License_Color  \\\n",
       "count       518077.000000      ...        518077.000000  518077.000000   \n",
       "mean          9884.482295      ...             0.013085       2.566518   \n",
       "std           6030.328908      ...             0.113639       0.524390   \n",
       "min           2023.000000      ...             0.000000       1.000000   \n",
       "25%           6420.000000      ...             0.000000       2.000000   \n",
       "50%           8265.000000      ...             0.000000       3.000000   \n",
       "75%          11304.000000      ...             0.000000       3.000000   \n",
       "max         118572.000000      ...             1.000000       3.000000   \n",
       "\n",
       "             Mileage          Usage       Car_Type        Car_Age  \\\n",
       "count  518077.000000  518077.000000  518077.000000  518077.000000   \n",
       "mean        1.596533       2.248594       1.967113       5.904676   \n",
       "std         0.684723       0.468868       0.844692       4.347452   \n",
       "min         1.000000       1.000000       1.000000       0.000000   \n",
       "25%         1.000000       2.000000       1.000000       2.000000   \n",
       "50%         1.000000       2.000000       2.000000       6.000000   \n",
       "75%         2.000000       3.000000       3.000000       9.000000   \n",
       "max         3.000000       3.000000       6.000000      80.000000   \n",
       "\n",
       "       Previous_Accidents    Insured_Sex    Insured_Age  Renewal_Times  \n",
       "count       518077.000000  518077.000000  518077.000000  518077.000000  \n",
       "mean             0.078519       1.416633      45.668277       3.290046  \n",
       "std              0.268987       0.493001      14.557836       3.098196  \n",
       "min              0.000000       1.000000      17.000000       0.000000  \n",
       "25%              0.000000       1.000000      35.000000       1.000000  \n",
       "50%              0.000000       1.000000      42.000000       2.000000  \n",
       "75%              0.000000       2.000000      56.000000       5.000000  \n",
       "max              1.000000       2.000000      98.000000      15.000000  \n",
       "\n",
       "[8 rows x 55 columns]"
      ]
     },
     "execution_count": 4,
     "metadata": {},
     "output_type": "execute_result"
    }
   ],
   "source": [
    "lloss.describe()"
   ]
  },
  {
   "cell_type": "markdown",
   "metadata": {},
   "source": [
    "#### target variable \"EV_LARGE\""
   ]
  },
  {
   "cell_type": "code",
   "execution_count": 5,
   "metadata": {},
   "outputs": [
    {
     "data": {
      "text/plain": [
       "0"
      ]
     },
     "execution_count": 5,
     "metadata": {},
     "output_type": "execute_result"
    }
   ],
   "source": [
    "lloss['EV_LARGE'].isnull().sum() ### check missing observations"
   ]
  },
  {
   "cell_type": "code",
   "execution_count": 6,
   "metadata": {},
   "outputs": [
    {
     "data": {
      "text/plain": [
       "EV_000M    466851\n",
       "EV_001M     32146\n",
       "EV_002M      9353\n",
       "EV_004M      5312\n",
       "EV_003M      2787\n",
       "EV_010M      1574\n",
       "EV_090M        54\n",
       "Name: EV_LARGE, dtype: int64"
      ]
     },
     "execution_count": 6,
     "metadata": {},
     "output_type": "execute_result"
    }
   ],
   "source": [
    "# how large each class is \n",
    "lloss['EV_LARGE'].value_counts()"
   ]
  },
  {
   "cell_type": "markdown",
   "metadata": {},
   "source": [
    "##### EV_OO0M means large loss is less than 1M : non-large loss class with 466851 records\n",
    "\n",
    "##### sum (EV_OO1M, EV_090M) : large loss class with 51226 records\n",
    "\n",
    "#### class imbalanced data "
   ]
  },
  {
   "cell_type": "code",
   "execution_count": 7,
   "metadata": {
    "collapsed": true
   },
   "outputs": [],
   "source": [
    "newnew = lloss.loc[lloss['EV_LARGE'] == 1]"
   ]
  },
  {
   "cell_type": "code",
   "execution_count": 8,
   "metadata": {
    "collapsed": true
   },
   "outputs": [],
   "source": [
    "# replace non-large loss class with 0, large loss class with 1\n",
    "lloss['EV_LARGE'] = lloss['EV_LARGE'].replace(['EV_001M','EV_002M','EV_004M','EV_003M','EV_010M',\n",
    "                          'EV_090M'],1)\n",
    "lloss['EV_LARGE'] = lloss['EV_LARGE'].replace(['EV_000M'],0)"
   ]
  },
  {
   "cell_type": "code",
   "execution_count": 9,
   "metadata": {},
   "outputs": [
    {
     "data": {
      "text/plain": [
       "0    466851\n",
       "1     51226\n",
       "Name: EV_LARGE, dtype: int64"
      ]
     },
     "execution_count": 9,
     "metadata": {},
     "output_type": "execute_result"
    }
   ],
   "source": [
    "lloss['EV_LARGE'].value_counts()"
   ]
  },
  {
   "cell_type": "code",
   "execution_count": 10,
   "metadata": {},
   "outputs": [
    {
     "data": {
      "image/png": "[encoded data removed]",
      "text/plain": [
       "<matplotlib.figure.Figure at 0x10a761eb8>"
      ]
     },
     "metadata": {},
     "output_type": "display_data"
    }
   ],
   "source": [
    "# target variable\n",
    "labels = [\"non-large loss\",\"large loss\"]\n",
    "sizes = lloss.EV_LARGE.value_counts().values\n",
    "explode=[0.1,0]\n",
    "colors = ['lightcoral','lightblue']\n",
    "patches, texts,autotexts= plt.pie(sizes, labels=labels,colors=colors,explode=explode,autopct=\"%1.1f%%\",\n",
    "                        startangle=90)\n",
    "plt.title(\"Response Variable\")\n",
    "plt.show()"
   ]
  },
  {
   "cell_type": "code",
   "execution_count": 11,
   "metadata": {
    "scrolled": false
   },
   "outputs": [
    {
     "data": {
      "text/plain": [
       "Event_Number                   0\n",
       "Claim_Number               55889\n",
       "Event_Occurrence_Month         0\n",
       "Inception_Month                0\n",
       "Issued_Date                    0\n",
       "Issued_Time                    0\n",
       "Coverage1                  55889\n",
       "Coverage2                  55889\n",
       "PI_Class                  422892\n",
       "IN_OUTPATIENT             443265\n",
       "Incurred                       0\n",
       "EV_LARGE                       0\n",
       "Driver                     40822\n",
       "Contract_Status              307\n",
       "Reason                         0\n",
       "Effective_Date                 0\n",
       "Annual_Premium                 0\n",
       "Annual_Premium_BIL             0\n",
       "Annual_Premium_PDL             0\n",
       "Annual_Premium_PPA             0\n",
       "Annual_Premium_PI              0\n",
       "Annual_Premium_ODPE            0\n",
       "Annual_Premium_OD              0\n",
       "Annual_Premium_PE              0\n",
       "Annual_Premium_FB              0\n",
       "Annual_Premium_FBB             0\n",
       "Annual_Premium_FBP             0\n",
       "Annual_Premium_LE              0\n",
       "Annual_Premium_AXAP            0\n",
       "Annual_Premium_PSE             0\n",
       "                           ...  \n",
       "PI_Type                        0\n",
       "FB_Coverage                    0\n",
       "LE_Coverage                    0\n",
       "PDL_Special_Coverage           0\n",
       "Anshin_Plus                    0\n",
       "Anshin_Plus_Ladies             0\n",
       "Anshin_Plus_Pet                0\n",
       "Anshin_Plus_Family             0\n",
       "Automatic_Renewal              0\n",
       "Age_Restriction                0\n",
       "Family_Restriction             0\n",
       "EQ_Coverage                    0\n",
       "Tariff                         0\n",
       "Bonus_Malus                    0\n",
       "Bonus_Malus_Range              0\n",
       "License_Color                  0\n",
       "Mileage                        0\n",
       "Usage                          0\n",
       "Car_Type                       0\n",
       "Car_Name                       0\n",
       "Car_Age                        0\n",
       "Previous_Accidents             0\n",
       "Insured_Sex                    0\n",
       "Insured_Age                    0\n",
       "Insured_Age_Range              0\n",
       "Region                         0\n",
       "Prefecture                     0\n",
       "Prev_Insurer_Category         43\n",
       "Original_Channel              44\n",
       "Renewal_Times                  0\n",
       "Length: 76, dtype: int64"
      ]
     },
     "execution_count": 11,
     "metadata": {},
     "output_type": "execute_result"
    }
   ],
   "source": [
    "# missing observations\n",
    "lloss.isnull().sum()"
   ]
  },
  {
   "cell_type": "markdown",
   "metadata": {},
   "source": [
    "#### missing values\n",
    "- \" ***Claim_Number*** \" (under Event_Number, an accident can result in multiple claim numbers):55889\n",
    "- \" ***Coverage1*** \" (coverage type 1):55889\n",
    "- \" ***Coverage2*** \" (coverage type 2):55889\n",
    "- \" ***PI_Class*** \"  (personal injury class):422892\n",
    "- \" ***IN_OUTPATIENT*** \" (whether in the hospital):443265\n",
    "- \" ***Driver*** \" (driver at the time of accident):40822\n",
    "- \" ***Contract_Status*** \" (status of the contract):307\n",
    "- \" ***Prev_Insurer_Category*** \" (category of previous insurer):43\n",
    "- \" ***Original_Channel*** \"  (the method of reaching us for the first time):44"
   ]
  },
  {
   "cell_type": "markdown",
   "metadata": {},
   "source": [
    "#### replace or delete missing observations"
   ]
  },
  {
   "cell_type": "markdown",
   "metadata": {},
   "source": [
    "##### I. delete irrelevant features\n",
    "\n",
    "- 'Driver'\n",
    "- 'Coverage1'\n",
    "- 'Coverage2'"
   ]
  },
  {
   "cell_type": "code",
   "execution_count": 12,
   "metadata": {
    "collapsed": true
   },
   "outputs": [],
   "source": [
    "lloss = lloss.drop(['Coverage1','Coverage2','Driver'], axis=1)"
   ]
  },
  {
   "cell_type": "markdown",
   "metadata": {},
   "source": [
    "##### II. replace missing values"
   ]
  },
  {
   "cell_type": "code",
   "execution_count": 13,
   "metadata": {
    "scrolled": false
   },
   "outputs": [
    {
     "data": {
      "text/plain": [
       "(02) Non Direct    248808\n",
       "(99) New           151298\n",
       "(01) Direct        117928\n",
       "Name: Prev_Insurer_Category, dtype: int64"
      ]
     },
     "execution_count": 13,
     "metadata": {},
     "output_type": "execute_result"
    }
   ],
   "source": [
    "lloss['Prev_Insurer_Category'].value_counts()"
   ]
  },
  {
   "cell_type": "code",
   "execution_count": 14,
   "metadata": {
    "collapsed": true
   },
   "outputs": [],
   "source": [
    "# replace missing observations with 0\n",
    "# 0 means none set-up \n",
    "lloss['PI_Class'] = lloss['PI_Class'].fillna(0.0)\n",
    "lloss['IN_OUTPATIENT'] = lloss['IN_OUTPATIENT'].fillna(0.0)\n",
    "lloss['Contract_Status'] = lloss['Contract_Status'].fillna(0.0)\n",
    "lloss['Prev_Insurer_Category'] = lloss['Prev_Insurer_Category'].fillna(0)\n",
    "lloss['Original_Channel'] = lloss['Original_Channel'].fillna(0)"
   ]
  },
  {
   "cell_type": "markdown",
   "metadata": {},
   "source": [
    "#### clean independent variables"
   ]
  },
  {
   "cell_type": "code",
   "execution_count": 15,
   "metadata": {
    "collapsed": true
   },
   "outputs": [],
   "source": [
    "## reason: Japanese. transfer to English\n",
    "lloss['Reason'] = lloss['Reason'].replace('契約開始', 'The contract begins')\n",
    "lloss['Reason'] = lloss['Reason'].replace('車両入替', 'Replacement vehicle')\n",
    "lloss['Reason'] = lloss['Reason'].replace('パートナー情報', 'Partner Information')\n",
    "lloss['Reason'] = lloss['Reason'].replace('その他の変更', 'Other changes')\n",
    "lloss['Reason'] = lloss['Reason'].replace('運転者年齢条件', 'Driver age conditions')\n",
    "lloss['Reason'] = lloss['Reason'].replace('VAN訂正', 'VAN Revised')\n",
    "lloss['Reason'] = lloss['Reason'].replace('家族限定特約', 'Family limited special')\n",
    "lloss['Reason'] = lloss['Reason'].replace('車両保険', 'Vehicle insurance')\n",
    "lloss['Reason'] = lloss['Reason'].replace('使用目的', 'Intended use')\n",
    "lloss['Reason'] = lloss['Reason'].replace('距離区分', 'Distance classification')\n",
    "lloss['Reason'] = lloss['Reason'].replace('免許証の色', 'License color')\n",
    "lloss['Reason'] = lloss['Reason'].replace('居住地域', 'Residential area')\n",
    "lloss['Reason'] = lloss['Reason'].replace('等級訂正', 'Grade correction')\n",
    "lloss['Reason'] = lloss['Reason'].replace('ファミリーバイク', 'Family bike')\n",
    "lloss['Reason'] = lloss['Reason'].replace('登録番号', 'Registration number')\n",
    "lloss['Reason'] = lloss['Reason'].replace('車台番号', 'Chassis number')\n",
    "lloss['Reason'] = lloss['Reason'].replace('記名被保険者の変更', 'Changes to the name insured')\n",
    "lloss['Reason'] = lloss['Reason'].replace('人身傷害補償担保特約', 'Personal injury compensation security agreement')\n",
    "lloss['Reason'] = lloss['Reason'].replace('誤計上による訂正', 'Correction by miscorrection')\n",
    "lloss['Reason'] = lloss['Reason'].replace('車両所有者の変更', 'Change of vehicle owner')\n",
    "lloss['Reason'] = lloss['Reason'].replace('搭乗者傷害保険金額', 'Passenger injury insurance amount')\n",
    "lloss['Reason'] = lloss['Reason'].replace('ﾍﾟｯﾄﾌﾟﾗｽ', 'Pet Plus')\n",
    "lloss['Reason'] = lloss['Reason'].replace('弁護士費用(人+物)', 'Attorney fee (person + thing)')\n",
    "lloss['Reason'] = lloss['Reason'].replace('免責金額の変更', 'Change of deductible amount')\n",
    "lloss['Reason'] = lloss['Reason'].replace('自動継続特約', 'Automatic continuation rider')\n",
    "lloss['Reason'] = lloss['Reason'].replace('対物賠償金額', 'Object reparation amount')\n",
    "lloss['Reason'] = lloss['Reason'].replace('ﾌｧﾐﾘｰﾌﾟﾗｽ', 'Family Plus')\n",
    "lloss['Reason'] = lloss['Reason'].replace('車両免責ゼロ特約', 'Vehicle disclaimer Zero rider')\n",
    "lloss['Reason'] = lloss['Reason'].replace('対物全損時費用', 'Objective total loss cost')\n",
    "lloss['Reason'] = lloss['Reason'].replace('口座情報', 'Account information')\n",
    "lloss['Reason'] = lloss['Reason'].replace('任意解約', 'Arbitrary cancellation')\n",
    "lloss['Reason'] = lloss['Reason'].replace('未払い解除', 'Unpaid released')\n",
    "lloss['Reason'] = lloss['Reason'].replace('車両価額', 'Vehicle price')\n",
    "lloss['Reason'] = lloss['Reason'].replace('ﾚﾃﾞｨｰｽﾌﾟﾗｽ', \"Women's Plus\")\n",
    "lloss['Reason'] = lloss['Reason'].replace('地震全損一時金', 'Earthquake total loss lump sum')\n",
    "lloss['Reason'] = lloss['Reason'].replace('初度登録年月', 'First registration date')\n",
    "lloss['Reason'] = lloss['Reason'].replace('エアバッグ', 'Airbag')\n",
    "lloss['Reason'] = lloss['Reason'].replace('免許取得日', 'License Acquisition Date')\n",
    "lloss['Reason'] = lloss['Reason'].replace('約款違反解除（日割）', 'Cancellation of violation of contracts (daily)')\n",
    "lloss['Reason'] = lloss['Reason'].replace('任意解約(会社都合)', 'Optional cancellation (company convenience)')\n",
    "lloss['Reason'] = lloss['Reason'].replace('契約取消', 'Contract cancellation')"
   ]
  },
  {
   "cell_type": "code",
   "execution_count": 16,
   "metadata": {
    "collapsed": true
   },
   "outputs": [],
   "source": [
    "import re\n",
    "lloss['Reason'] = lloss['Reason'].apply(lambda x: re.sub(' +',' ',x.lower()))"
   ]
  },
  {
   "cell_type": "code",
   "execution_count": 17,
   "metadata": {},
   "outputs": [
    {
     "data": {
      "text/plain": [
       "75648      1\n",
       "21403      1\n",
       "21491      1\n",
       "23538      1\n",
       "23450      1\n",
       "35660      1\n",
       "17817      1\n",
       "23047      1\n",
       "25671      1\n",
       "19352      1\n",
       "14859      1\n",
       "2573       1\n",
       "17063      1\n",
       "33613      1\n",
       "21569      1\n",
       "21702      1\n",
       "17156      1\n",
       "39768      1\n",
       "3287       1\n",
       "17305      1\n",
       "20721      1\n",
       "16338      1\n",
       "29599      1\n",
       "24839      1\n",
       "3064       1\n",
       "25491      1\n",
       "27554      1\n",
       "43652      1\n",
       "17493      1\n",
       "41652      1\n",
       "        ... \n",
       "7200     218\n",
       "9000     218\n",
       "7764     218\n",
       "9240     219\n",
       "6888     219\n",
       "7092     220\n",
       "6900     222\n",
       "8400     223\n",
       "9252     224\n",
       "6420     224\n",
       "7992     224\n",
       "7512     225\n",
       "6636     225\n",
       "9312     226\n",
       "7872     230\n",
       "6924     231\n",
       "7272     231\n",
       "6492     231\n",
       "8028     231\n",
       "7416     233\n",
       "8304     234\n",
       "6912     235\n",
       "6552     238\n",
       "7824     239\n",
       "7728     240\n",
       "7440     240\n",
       "8976     244\n",
       "6780     250\n",
       "8136     252\n",
       "7548     261\n",
       "Name: Annual_Premium_BIL, Length: 23092, dtype: int64"
      ]
     },
     "execution_count": 17,
     "metadata": {},
     "output_type": "execute_result"
    }
   ],
   "source": [
    "# Annual_Premium\n",
    "lloss['Annual_Premium_BIL'].value_counts().sort_values()"
   ]
  },
  {
   "cell_type": "markdown",
   "metadata": {},
   "source": [
    "##### 'Annual_Premium': Insurance premium is the amount of money customers pay to an insurance company for active coverage.\n",
    "##### \"Annual_Premium_BIL\", \"Annual_Premium_PDL\",\"Annual_Premium_PPA!\", ...... Their values are different and range from 0 to 6000+ , representing the value of payment"
   ]
  },
  {
   "cell_type": "code",
   "execution_count": 18,
   "metadata": {},
   "outputs": [
    {
     "data": {
      "text/plain": [
       "0     89207\n",
       "1    428870\n",
       "Name: PI_Coverage, dtype: int64"
      ]
     },
     "execution_count": 18,
     "metadata": {},
     "output_type": "execute_result"
    }
   ],
   "source": [
    "# coverage: the amount of risk or liability that is covered for \n",
    "# an individual or entity by way of insurance services\n",
    "\n",
    "#personal injury\n",
    "lloss['PI_Coverage'].value_counts().sort_values()"
   ]
  },
  {
   "cell_type": "markdown",
   "metadata": {},
   "source": [
    "##### the value is 0 or 1. 1 means insurer will take responsibility of this type of coverage while 0 means the opposite."
   ]
  },
  {
   "cell_type": "markdown",
   "metadata": {},
   "source": [
    "#### tranforming datatype for later manipulation"
   ]
  },
  {
   "cell_type": "code",
   "execution_count": 19,
   "metadata": {},
   "outputs": [
    {
     "name": "stdout",
     "output_type": "stream",
     "text": [
      "<class 'pandas.core.frame.DataFrame'>\n",
      "RangeIndex: 518077 entries, 0 to 518076\n",
      "Data columns (total 73 columns):\n",
      "Event_Number              518077 non-null int64\n",
      "Claim_Number              462188 non-null float64\n",
      "Event_Occurrence_Month    518077 non-null object\n",
      "Inception_Month           518077 non-null object\n",
      "Issued_Date               518077 non-null object\n",
      "Issued_Time               518077 non-null object\n",
      "PI_Class                  518077 non-null float64\n",
      "IN_OUTPATIENT             518077 non-null float64\n",
      "Incurred                  518077 non-null int64\n",
      "EV_LARGE                  518077 non-null int64\n",
      "Contract_Status           518077 non-null float64\n",
      "Reason                    518077 non-null object\n",
      "Effective_Date            518077 non-null object\n",
      "Annual_Premium            518077 non-null int64\n",
      "Annual_Premium_BIL        518077 non-null int64\n",
      "Annual_Premium_PDL        518077 non-null int64\n",
      "Annual_Premium_PPA        518077 non-null int64\n",
      "Annual_Premium_PI         518077 non-null int64\n",
      "Annual_Premium_ODPE       518077 non-null int64\n",
      "Annual_Premium_OD         518077 non-null int64\n",
      "Annual_Premium_PE         518077 non-null int64\n",
      "Annual_Premium_FB         518077 non-null int64\n",
      "Annual_Premium_FBB        518077 non-null int64\n",
      "Annual_Premium_FBP        518077 non-null int64\n",
      "Annual_Premium_LE         518077 non-null int64\n",
      "Annual_Premium_AXAP       518077 non-null int64\n",
      "Annual_Premium_PSE        518077 non-null int64\n",
      "Annual_Premium_PPD        518077 non-null int64\n",
      "Annual_Premium_PL         518077 non-null int64\n",
      "Annual_Premium_HK         518077 non-null int64\n",
      "Annual_Premium_PET        518077 non-null int64\n",
      "Annual_Premium_EQ         518077 non-null int64\n",
      "Payment_Method            518077 non-null int64\n",
      "Payment_Type1             518077 non-null int64\n",
      "Internet_Discount         518077 non-null int64\n",
      "OD_Type                   518077 non-null int64\n",
      "PDL_Limit                 518077 non-null object\n",
      "OD_Coverage               518077 non-null int64\n",
      "Deduct                    518077 non-null object\n",
      "PPA_Coverage              518077 non-null int64\n",
      "PPA_Limit                 518077 non-null object\n",
      "PI_Coverage               518077 non-null int64\n",
      "PI_Limit                  518077 non-null object\n",
      "PI_Type                   518077 non-null int64\n",
      "FB_Coverage               518077 non-null int64\n",
      "LE_Coverage               518077 non-null int64\n",
      "PDL_Special_Coverage      518077 non-null int64\n",
      "Anshin_Plus               518077 non-null int64\n",
      "Anshin_Plus_Ladies        518077 non-null int64\n",
      "Anshin_Plus_Pet           518077 non-null int64\n",
      "Anshin_Plus_Family        518077 non-null int64\n",
      "Automatic_Renewal         518077 non-null int64\n",
      "Age_Restriction           518077 non-null int64\n",
      "Family_Restriction        518077 non-null int64\n",
      "EQ_Coverage               518077 non-null int64\n",
      "Tariff                    518077 non-null object\n",
      "Bonus_Malus               518077 non-null object\n",
      "Bonus_Malus_Range         518077 non-null object\n",
      "License_Color             518077 non-null int64\n",
      "Mileage                   518077 non-null int64\n",
      "Usage                     518077 non-null int64\n",
      "Car_Type                  518077 non-null int64\n",
      "Car_Name                  518077 non-null object\n",
      "Car_Age                   518077 non-null int64\n",
      "Previous_Accidents        518077 non-null int64\n",
      "Insured_Sex               518077 non-null int64\n",
      "Insured_Age               518077 non-null int64\n",
      "Insured_Age_Range         518077 non-null object\n",
      "Region                    518077 non-null object\n",
      "Prefecture                518077 non-null object\n",
      "Prev_Insurer_Category     518077 non-null object\n",
      "Original_Channel          518077 non-null object\n",
      "Renewal_Times             518077 non-null int64\n",
      "dtypes: float64(4), int64(50), object(19)\n",
      "memory usage: 288.5+ MB\n"
     ]
    }
   ],
   "source": [
    "lloss.info()"
   ]
  },
  {
   "cell_type": "markdown",
   "metadata": {
    "collapsed": true
   },
   "source": [
    "##### Data type for each variable\n",
    "##### we'd better to transform datatype for following variables:\n",
    "\n",
    "- 'PDL_Limit', 'Deduct', 'PPA_Limit','Original_Channel','Insured_Age_Range' 'PI_Limit','Tariff','Bonus_Malus','Bonus_Malus_Range','Prev_Insurer_Category',\n",
    "\n",
    "##### text variables\n",
    "\n",
    "- 'Region'                  \n",
    "\n",
    "- 'Prefecture' \n",
    "\n",
    "- 'Car_Name '\n",
    "\n",
    "- 'Reason'\n",
    "\n",
    "##### Datetime variables\n",
    "- 'Event_Occurrence_Month'\n",
    "\n",
    "- 'Inception_Month'\n",
    "\n",
    "- 'Issued_Date'\n",
    "\n",
    "- 'Issued_Time'\n",
    "\n",
    "- 'Effective_Date'\n",
    "\n",
    "##### learning:\n",
    "- transform datatype\n",
    "- handle timestamp\n",
    "- handle text variables"
   ]
  },
  {
   "cell_type": "code",
   "execution_count": 20,
   "metadata": {
    "collapsed": true
   },
   "outputs": [],
   "source": [
    "lloss['PDL_Limit'] = lloss['PDL_Limit'].replace('(01) Unlimited', 1)\n",
    "lloss['PDL_Limit'] = lloss['PDL_Limit'].replace('(03) 10m', 3)\n",
    "lloss['PDL_Limit'] = lloss['PDL_Limit'].replace('(04) 20m', 4)"
   ]
  },
  {
   "cell_type": "code",
   "execution_count": 21,
   "metadata": {
    "collapsed": true
   },
   "outputs": [],
   "source": [
    "lloss['Deduct'] = lloss['Deduct'].replace('(07) 30% Deductible','7')\n",
    "lloss['Deduct'] = lloss['Deduct'].astype(int)"
   ]
  },
  {
   "cell_type": "code",
   "execution_count": 22,
   "metadata": {
    "collapsed": true
   },
   "outputs": [],
   "source": [
    "def transform_dtype(feature,old_value,new_value):\n",
    "    lloss[feature] = lloss[feature].replace(old_value,new_value)\n",
    "    return type(lloss[feature].iloc[0])"
   ]
  },
  {
   "cell_type": "code",
   "execution_count": 23,
   "metadata": {},
   "outputs": [
    {
     "data": {
      "text/plain": [
       "numpy.int64"
      ]
     },
     "execution_count": 23,
     "metadata": {},
     "output_type": "execute_result"
    }
   ],
   "source": [
    "transform_dtype('PPA_Limit',['(04) 10m','(03) 5m','(05) 15m','(00) NO','(06) 20m'], [4,3,5,0,6])"
   ]
  },
  {
   "cell_type": "code",
   "execution_count": 24,
   "metadata": {
    "collapsed": true
   },
   "outputs": [],
   "source": [
    "transform_dtype('PI_Limit',['(02) 30m','(04) 50m','(00) NO','(07) 80m','(09) 100m','(01) Unlimited','(06) 70m',\n",
    "                           '(03) 40m','(05) 60m','(08) 90m'], [2,4,0,7,9,1,6,3,5,8])\n",
    "transform_dtype('Tariff','(01) AUTO', 1)\n",
    "transform_dtype('Bonus_Malus',['07F','06New','06F','07New'], [7,60,6,70])\n",
    "lloss['Bonus_Malus'] = lloss['Bonus_Malus'].astype(int)"
   ]
  },
  {
   "cell_type": "code",
   "execution_count": 25,
   "metadata": {
    "collapsed": true,
    "scrolled": true
   },
   "outputs": [],
   "source": [
    "transform_dtype('Bonus_Malus_Range','06_07New','06_07')\n",
    "lloss['Bonus_Malus_Range'] = lloss['Bonus_Malus_Range'].astype(int)"
   ]
  },
  {
   "cell_type": "code",
   "execution_count": 26,
   "metadata": {},
   "outputs": [
    {
     "data": {
      "text/plain": [
       "numpy.int64"
      ]
     },
     "execution_count": 26,
     "metadata": {},
     "output_type": "execute_result"
    }
   ],
   "source": [
    "transform_dtype('Original_Channel',['(01) Phone','(02) Internet','(03) Broker','(05) Re-quote',\n",
    "                    '(06) Axa Life','(07) Agent','(09) MGM','(04) Fax','(08) Banc','Database marketing'],\n",
    "                [1,2,3,5,6,7,9,4,8,10])"
   ]
  },
  {
   "cell_type": "code",
   "execution_count": 27,
   "metadata": {},
   "outputs": [
    {
     "data": {
      "text/plain": [
       "numpy.int64"
      ]
     },
     "execution_count": 27,
     "metadata": {},
     "output_type": "execute_result"
    }
   ],
   "source": [
    "# transfer text to integer\n",
    "transform_dtype('Region',['(01) 北海道','(02) 東北','(03) 関東','(04) 北陸東海','(05) 近畿中国',\n",
    "                         '(06) 四国','(07) 九州'],[1,2,3,4,5,6,7])"
   ]
  },
  {
   "cell_type": "code",
   "execution_count": 28,
   "metadata": {},
   "outputs": [
    {
     "data": {
      "text/plain": [
       "numpy.int64"
      ]
     },
     "execution_count": 28,
     "metadata": {},
     "output_type": "execute_result"
    }
   ],
   "source": [
    "# fillna in ['Prev_Insurer_Category']\n",
    "lloss['Prev_Insurer_Category'] = lloss['Prev_Insurer_Category'].fillna(0)\n",
    "transform_dtype('Prev_Insurer_Category',['(01) Direct','(99) New','(02) Non Direct'],[1,99,2])"
   ]
  },
  {
   "cell_type": "code",
   "execution_count": 29,
   "metadata": {
    "collapsed": true
   },
   "outputs": [],
   "source": [
    "# fillna in ['Original_Channel']\n",
    "lloss['Original_Channel'] = lloss['Original_Channel'].fillna(0)"
   ]
  },
  {
   "cell_type": "markdown",
   "metadata": {},
   "source": [
    "#### timestamp"
   ]
  },
  {
   "cell_type": "markdown",
   "metadata": {},
   "source": [
    "##### breaking datatime : break into 'year', 'month', and 'date'\n",
    "- 'Event_Occurrence_Month'  \n",
    "- 'Inception_Month'           \n",
    "- 'Issued_Date'              \n",
    "- 'Issued_Time'               \n",
    "- 'Effective_Date' "
   ]
  },
  {
   "cell_type": "code",
   "execution_count": 30,
   "metadata": {},
   "outputs": [
    {
     "data": {
      "text/plain": [
       "'2011/1/1'"
      ]
     },
     "execution_count": 30,
     "metadata": {},
     "output_type": "execute_result"
    }
   ],
   "source": [
    "lloss.loc[0,'Event_Occurrence_Month']"
   ]
  },
  {
   "cell_type": "code",
   "execution_count": 31,
   "metadata": {
    "collapsed": true
   },
   "outputs": [],
   "source": [
    "# def datetime(new_feature,feature,year,month,date):\n",
    "#     lloss[new_feature] = pd.to_datetime(lloss[feature])\n",
    "#     lloss[year] = lloss[new_feature].dt.year\n",
    "#     lloss[month] = lloss[new_feature].dt.month\n",
    "#     lloss[date] = lloss[new_feature].dt.day\n",
    "#     return lloss[year].head()"
   ]
  },
  {
   "cell_type": "code",
   "execution_count": 32,
   "metadata": {
    "collapsed": true
   },
   "outputs": [],
   "source": [
    "# datetime('Event_Occurrence','Event_Occurrence_Month','Event_Occurrence_year','Event_Occurrence_month','Event_Occurrence_date')\n",
    "# datetime('Inception','Inception_Month','Inception_year', 'Inception_month','Inception_date')\n",
    "# datetime('Issued','Issued_Date','Issued_year','Issued_month','Issued_date')\n",
    "# datetime('Effective','Effective_Date','Effective_year','Effective_month','Effective_date')"
   ]
  },
  {
   "cell_type": "code",
   "execution_count": 33,
   "metadata": {
    "collapsed": true
   },
   "outputs": [],
   "source": [
    "lloss['Issued_Time'] = [item.replace(':','') for item in list(lloss['Issued_Time'].values)]"
   ]
  },
  {
   "cell_type": "code",
   "execution_count": 34,
   "metadata": {
    "collapsed": true
   },
   "outputs": [],
   "source": [
    "lloss['Issued_Time'] = lloss['Issued_Time'].astype(int)"
   ]
  },
  {
   "cell_type": "code",
   "execution_count": 43,
   "metadata": {},
   "outputs": [
    {
     "data": {
      "text/plain": [
       "array([2, 5, 5, ..., 2, 3, 5])"
      ]
     },
     "execution_count": 43,
     "metadata": {},
     "output_type": "execute_result"
    }
   ],
   "source": [
    "from sklearn.preprocessing import LabelEncoder\n",
    "le = LabelEncoder()\n",
    "le.fit(lloss['Insured_Age_Range']) \n",
    "list(le.classes_)\n",
    "le.fit_transform(lloss['Insured_Age_Range'])"
   ]
  },
  {
   "cell_type": "code",
   "execution_count": 44,
   "metadata": {
    "collapsed": true
   },
   "outputs": [],
   "source": [
    "lloss['Insured_Age_Range_Num']= le.fit_transform(lloss['Insured_Age_Range'])"
   ]
  },
  {
   "cell_type": "code",
   "execution_count": 45,
   "metadata": {},
   "outputs": [
    {
     "name": "stdout",
     "output_type": "stream",
     "text": [
      "<class 'pandas.core.frame.DataFrame'>\n",
      "RangeIndex: 518077 entries, 0 to 518076\n",
      "Data columns (total 74 columns):\n",
      "Event_Number              518077 non-null int64\n",
      "Claim_Number              462188 non-null float64\n",
      "Event_Occurrence_Month    518077 non-null object\n",
      "Inception_Month           518077 non-null object\n",
      "Issued_Date               518077 non-null object\n",
      "Issued_Time               518077 non-null int64\n",
      "PI_Class                  518077 non-null float64\n",
      "IN_OUTPATIENT             518077 non-null float64\n",
      "Incurred                  518077 non-null int64\n",
      "EV_LARGE                  518077 non-null int64\n",
      "Contract_Status           518077 non-null float64\n",
      "Reason                    518077 non-null object\n",
      "Effective_Date            518077 non-null object\n",
      "Annual_Premium            518077 non-null int64\n",
      "Annual_Premium_BIL        518077 non-null int64\n",
      "Annual_Premium_PDL        518077 non-null int64\n",
      "Annual_Premium_PPA        518077 non-null int64\n",
      "Annual_Premium_PI         518077 non-null int64\n",
      "Annual_Premium_ODPE       518077 non-null int64\n",
      "Annual_Premium_OD         518077 non-null int64\n",
      "Annual_Premium_PE         518077 non-null int64\n",
      "Annual_Premium_FB         518077 non-null int64\n",
      "Annual_Premium_FBB        518077 non-null int64\n",
      "Annual_Premium_FBP        518077 non-null int64\n",
      "Annual_Premium_LE         518077 non-null int64\n",
      "Annual_Premium_AXAP       518077 non-null int64\n",
      "Annual_Premium_PSE        518077 non-null int64\n",
      "Annual_Premium_PPD        518077 non-null int64\n",
      "Annual_Premium_PL         518077 non-null int64\n",
      "Annual_Premium_HK         518077 non-null int64\n",
      "Annual_Premium_PET        518077 non-null int64\n",
      "Annual_Premium_EQ         518077 non-null int64\n",
      "Payment_Method            518077 non-null int64\n",
      "Payment_Type1             518077 non-null int64\n",
      "Internet_Discount         518077 non-null int64\n",
      "OD_Type                   518077 non-null int64\n",
      "PDL_Limit                 518077 non-null int64\n",
      "OD_Coverage               518077 non-null int64\n",
      "Deduct                    518077 non-null int64\n",
      "PPA_Coverage              518077 non-null int64\n",
      "PPA_Limit                 518077 non-null int64\n",
      "PI_Coverage               518077 non-null int64\n",
      "PI_Limit                  518077 non-null int64\n",
      "PI_Type                   518077 non-null int64\n",
      "FB_Coverage               518077 non-null int64\n",
      "LE_Coverage               518077 non-null int64\n",
      "PDL_Special_Coverage      518077 non-null int64\n",
      "Anshin_Plus               518077 non-null int64\n",
      "Anshin_Plus_Ladies        518077 non-null int64\n",
      "Anshin_Plus_Pet           518077 non-null int64\n",
      "Anshin_Plus_Family        518077 non-null int64\n",
      "Automatic_Renewal         518077 non-null int64\n",
      "Age_Restriction           518077 non-null int64\n",
      "Family_Restriction        518077 non-null int64\n",
      "EQ_Coverage               518077 non-null int64\n",
      "Tariff                    518077 non-null int64\n",
      "Bonus_Malus               518077 non-null int64\n",
      "Bonus_Malus_Range         518077 non-null int64\n",
      "License_Color             518077 non-null int64\n",
      "Mileage                   518077 non-null int64\n",
      "Usage                     518077 non-null int64\n",
      "Car_Type                  518077 non-null int64\n",
      "Car_Name                  518077 non-null object\n",
      "Car_Age                   518077 non-null int64\n",
      "Previous_Accidents        518077 non-null int64\n",
      "Insured_Sex               518077 non-null int64\n",
      "Insured_Age               518077 non-null int64\n",
      "Insured_Age_Range         518077 non-null object\n",
      "Region                    518077 non-null int64\n",
      "Prefecture                518077 non-null object\n",
      "Prev_Insurer_Category     518077 non-null int64\n",
      "Original_Channel          518077 non-null int64\n",
      "Renewal_Times             518077 non-null int64\n",
      "Insured_Age_Range_Num     518077 non-null int64\n",
      "dtypes: float64(4), int64(62), object(8)\n",
      "memory usage: 292.5+ MB\n"
     ]
    }
   ],
   "source": [
    "lloss.info()"
   ]
  },
  {
   "cell_type": "code",
   "execution_count": 46,
   "metadata": {},
   "outputs": [
    {
     "data": {
      "text/plain": [
       "'\\nReason                    518077 non-null object\\nCar_Name                  518077 non-null object\\nPrefecture                518077 non-null object\\n'"
      ]
     },
     "execution_count": 46,
     "metadata": {},
     "output_type": "execute_result"
    }
   ],
   "source": [
    "\"\"\"\n",
    "Reason                    518077 non-null object\n",
    "Car_Name                  518077 non-null object\n",
    "Prefecture                518077 non-null object\n",
    "\"\"\""
   ]
  },
  {
   "cell_type": "code",
   "execution_count": 47,
   "metadata": {
    "collapsed": true
   },
   "outputs": [],
   "source": [
    "lloss['Prefecture'] = le.fit_transform(lloss['Prefecture'])"
   ]
  },
  {
   "cell_type": "code",
   "execution_count": 48,
   "metadata": {
    "collapsed": true,
    "scrolled": true
   },
   "outputs": [],
   "source": [
    "lloss['Reason'] = le.fit_transform(lloss['Reason'])"
   ]
  },
  {
   "cell_type": "code",
   "execution_count": 49,
   "metadata": {
    "collapsed": true
   },
   "outputs": [],
   "source": [
    "feature_lst = ['Claim Number','Event Number',' Driver','Coverage1','Coverage2','Paid','OS','Car_Name']\n",
    "columns = list(lloss.columns)                                                                                     \n",
    "features_to_use = [col for col in columns if col not in feature_lst]"
   ]
  },
  {
   "cell_type": "code",
   "execution_count": 50,
   "metadata": {
    "collapsed": true
   },
   "outputs": [],
   "source": [
    "# new = lloss.loc[lloss['EV_LARGE'] == 1]"
   ]
  },
  {
   "cell_type": "code",
   "execution_count": 51,
   "metadata": {
    "collapsed": true
   },
   "outputs": [],
   "source": [
    "new_claimdata = lloss[features_to_use]\n",
    "new_claimdata.to_csv('new_claimdata.csv',index = False)"
   ]
  },
  {
   "cell_type": "code",
   "execution_count": null,
   "metadata": {
    "collapsed": true
   },
   "outputs": [],
   "source": []
  }
 ],
 "metadata": {
  "kernelspec": {
   "display_name": "Python 3",
   "language": "python",
   "name": "python3"
  },
  "language_info": {
   "codemirror_mode": {
    "name": "ipython",
    "version": 3
   },
   "file_extension": ".py",
   "mimetype": "text/x-python",
   "name": "python",
   "nbconvert_exporter": "python",
   "pygments_lexer": "ipython3",
   "version": "3.6.3"
  }
 },
 "nbformat": 4,
 "nbformat_minor": 2
}
