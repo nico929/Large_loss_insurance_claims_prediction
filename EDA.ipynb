{
 "cells": [
  {
   "cell_type": "markdown",
   "metadata": {},
   "source": [
    "##### EDA on customer profile and insurance policy premium"
   ]
  },
  {
   "cell_type": "code",
   "execution_count": 1,
   "metadata": {
    "collapsed": true
   },
   "outputs": [],
   "source": [
    "import numpy as np\n",
    "import pandas as pd\n",
    "import re\n",
    "import seaborn as sns\n",
    "import matplotlib.pyplot as plt\n",
    "from sklearn.feature_extraction.text import CountVectorizer\n",
    "from sklearn.metrics.pairwise import euclidean_distances"
   ]
  },
  {
   "cell_type": "code",
   "execution_count": 2,
   "metadata": {},
   "outputs": [
    {
     "data": {
      "text/plain": [
       "(518077, 73)"
      ]
     },
     "execution_count": 2,
     "metadata": {},
     "output_type": "execute_result"
    }
   ],
   "source": [
    "# reading csv claimdata_utf8\n",
    "# check number of observations and features\n",
    "lar_loss = pd.read_csv('new_claimdata.csv', low_memory=False)\n",
    "lar_loss.shape"
   ]
  },
  {
   "cell_type": "code",
   "execution_count": 3,
   "metadata": {
    "collapsed": true
   },
   "outputs": [],
   "source": [
    "def datetime(new_feature,feature,year,month,date):\n",
    "    lar_loss[new_feature] = pd.to_datetime(lar_loss[feature])\n",
    "    lar_loss[year] = lar_loss[new_feature].dt.year\n",
    "    lar_loss[month] = lar_loss[new_feature].dt.month\n",
    "    lar_loss[date] = lar_loss[new_feature].dt.day\n",
    "    return lar_loss[year].head()"
   ]
  },
  {
   "cell_type": "code",
   "execution_count": 4,
   "metadata": {},
   "outputs": [
    {
     "data": {
      "text/plain": [
       "0    2010\n",
       "1    2010\n",
       "2    2010\n",
       "3    2010\n",
       "4    2010\n",
       "Name: Effective_year, dtype: int64"
      ]
     },
     "execution_count": 4,
     "metadata": {},
     "output_type": "execute_result"
    }
   ],
   "source": [
    "datetime('Event_Occurrence','Event_Occurrence_Month','Event_Occurrence_year','Event_Occurrence_month','Event_Occurrence_date')\n",
    "datetime('Inception','Inception_Month','Inception_year', 'Inception_month','Inception_date')\n",
    "datetime('Issued','Issued_Date','Issued_year','Issued_month','Issued_date')\n",
    "datetime('Effective','Effective_Date','Effective_year','Effective_month','Effective_date')"
   ]
  },
  {
   "cell_type": "code",
   "execution_count": 5,
   "metadata": {
    "collapsed": true
   },
   "outputs": [],
   "source": [
    "columns = list(lar_loss.columns)\n",
    "feature_lst = ['EV_LARGE','Insured_Age_Range','Event_Occurrence','Event_Occurrence_Month',\n",
    "              'Inception','Inception_Month','Issued','Issued_Date','Effective','Effective_Date',\n",
    "              'Event_Number','Claim_Number']\n",
    "features_to_use = [col for col in columns if col not in feature_lst]\n",
    "#features_to_use"
   ]
  },
  {
   "cell_type": "code",
   "execution_count": 6,
   "metadata": {
    "collapsed": true
   },
   "outputs": [],
   "source": [
    "X = lar_loss[features_to_use]\n",
    "y = lar_loss['EV_LARGE']"
   ]
  },
  {
   "cell_type": "code",
   "execution_count": 7,
   "metadata": {
    "collapsed": true
   },
   "outputs": [],
   "source": [
    "feature_lst = ['Event_Occurrence','Event_Occurrence_Month',\n",
    "              'Inception','Inception_Month','Issued','Issued_Date','Effective','Effective_Date',\n",
    "              'Event_Number','Claim_Number']"
   ]
  },
  {
   "cell_type": "code",
   "execution_count": 8,
   "metadata": {
    "collapsed": true
   },
   "outputs": [],
   "source": [
    "features_to_use = [col for col in columns if col not in feature_lst]\n"
   ]
  },
  {
   "cell_type": "code",
   "execution_count": 9,
   "metadata": {
    "collapsed": true
   },
   "outputs": [],
   "source": [
    "large_loss = lar_loss[features_to_use]"
   ]
  },
  {
   "cell_type": "code",
   "execution_count": 10,
   "metadata": {
    "collapsed": true
   },
   "outputs": [],
   "source": [
    "new = large_loss.loc[large_loss['EV_LARGE'] == 1]"
   ]
  },
  {
   "cell_type": "code",
   "execution_count": 11,
   "metadata": {
    "collapsed": true
   },
   "outputs": [],
   "source": [
    "new.to_csv('large_claimdata.csv',index = False)"
   ]
  },
  {
   "cell_type": "code",
   "execution_count": 12,
   "metadata": {},
   "outputs": [
    {
     "data": {
      "text/plain": [
       "1    51226\n",
       "Name: EV_LARGE, dtype: int64"
      ]
     },
     "execution_count": 12,
     "metadata": {},
     "output_type": "execute_result"
    }
   ],
   "source": [
    "new['EV_LARGE'].value_counts()"
   ]
  },
  {
   "cell_type": "code",
   "execution_count": 13,
   "metadata": {
    "scrolled": true
   },
   "outputs": [
    {
     "data": {
      "text/plain": [
       "17"
      ]
     },
     "execution_count": 13,
     "metadata": {},
     "output_type": "execute_result"
    }
   ],
   "source": [
    "new['Insured_Age'].min(axis = 0)"
   ]
  },
  {
   "cell_type": "code",
   "execution_count": 14,
   "metadata": {},
   "outputs": [
    {
     "data": {
      "text/plain": [
       "89"
      ]
     },
     "execution_count": 14,
     "metadata": {},
     "output_type": "execute_result"
    }
   ],
   "source": [
    "new['Insured_Age'].max(axis = 0)"
   ]
  },
  {
   "cell_type": "code",
   "execution_count": 15,
   "metadata": {},
   "outputs": [
    {
     "data": {
      "text/plain": [
       "array([10, 20, 30, 40, 50, 60, 70, 80, 90])"
      ]
     },
     "execution_count": 15,
     "metadata": {},
     "output_type": "execute_result"
    }
   ],
   "source": [
    "bin_values = np.arange(start=10, stop=100, step=10)\n",
    "bin_values"
   ]
  },
  {
   "cell_type": "markdown",
   "metadata": {},
   "source": [
    "### Distribution of Age"
   ]
  },
  {
   "cell_type": "code",
   "execution_count": 16,
   "metadata": {},
   "outputs": [
    {
     "data": {
      "image/png": "[encoded data removed]",
      "text/plain": [
       "<matplotlib.figure.Figure at 0x105f80940>"
      ]
     },
     "metadata": {},
     "output_type": "display_data"
    }
   ],
   "source": [
    "# wn_carrier = data[data['unique_carrier'] == 'WN']\n",
    "new['Insured_Age'].hist(bins=bin_values, figsize=[6,6])\n",
    "plt.title('Distribution of Age in Large-loss Class')\n",
    "plt.xlabel('Insured_Age')\n",
    "plt.ylabel('Frequecy in large-loss class')\n",
    "plt.show()\n"
   ]
  },
  {
   "cell_type": "code",
   "execution_count": 17,
   "metadata": {},
   "outputs": [
    {
     "data": {
      "text/plain": [
       "51226"
      ]
     },
     "execution_count": 17,
     "metadata": {},
     "output_type": "execute_result"
    }
   ],
   "source": [
    "len(new)"
   ]
  },
  {
   "cell_type": "code",
   "execution_count": 18,
   "metadata": {
    "collapsed": true
   },
   "outputs": [],
   "source": [
    "product1 = new[(new['Insured_Age'] >= 30) & (new['Insured_Age'] <= 50)]"
   ]
  },
  {
   "cell_type": "code",
   "execution_count": 19,
   "metadata": {},
   "outputs": [
    {
     "data": {
      "text/plain": [
       "27101"
      ]
     },
     "execution_count": 19,
     "metadata": {},
     "output_type": "execute_result"
    }
   ],
   "source": [
    "len(product1)"
   ]
  },
  {
   "cell_type": "code",
   "execution_count": 20,
   "metadata": {
    "collapsed": true
   },
   "outputs": [],
   "source": [
    "product1 = new[(new['Insured_Age'] >= 30) & (new['Insured_Age'] <= 50)]"
   ]
  },
  {
   "cell_type": "markdown",
   "metadata": {},
   "source": [
    "### Significant Policy\n",
    "- Annual_Premium_BIL "
   ]
  },
  {
   "cell_type": "code",
   "execution_count": 21,
   "metadata": {
    "collapsed": true
   },
   "outputs": [],
   "source": [
    "features_to_use = ['Annual_Premium','Annual_Premium_BIL','Annual_Premium_PDL','Annual_Premium_PPA','Annual_Premium_PI','Annual_Premium_OD',\n",
    "                   'Annual_Premium_ODPE','Annual_Premium_PE','LE_Coverage','PI_Coverage','FB_Coverage','OD_Coverage',\n",
    "                   'PPA_Coverage']"
   ]
  },
  {
   "cell_type": "code",
   "execution_count": 22,
   "metadata": {
    "collapsed": true
   },
   "outputs": [],
   "source": [
    "product1 = product1[features_to_use]"
   ]
  },
  {
   "cell_type": "code",
   "execution_count": 23,
   "metadata": {},
   "outputs": [
    {
     "data": {
      "text/plain": [
       "0    19043\n",
       "1     8058\n",
       "Name: LE_Coverage, dtype: int64"
      ]
     },
     "execution_count": 23,
     "metadata": {},
     "output_type": "execute_result"
    }
   ],
   "source": [
    "product1['LE_Coverage'].value_counts()"
   ]
  },
  {
   "cell_type": "code",
   "execution_count": 24,
   "metadata": {},
   "outputs": [
    {
     "data": {
      "text/plain": [
       "1    23088\n",
       "0     4013\n",
       "Name: PI_Coverage, dtype: int64"
      ]
     },
     "execution_count": 24,
     "metadata": {},
     "output_type": "execute_result"
    }
   ],
   "source": [
    "product1['PI_Coverage'].value_counts()"
   ]
  },
  {
   "cell_type": "code",
   "execution_count": 25,
   "metadata": {},
   "outputs": [
    {
     "data": {
      "text/plain": [
       "0    24849\n",
       "1     2252\n",
       "Name: FB_Coverage, dtype: int64"
      ]
     },
     "execution_count": 25,
     "metadata": {},
     "output_type": "execute_result"
    }
   ],
   "source": [
    "product1['FB_Coverage'].value_counts()"
   ]
  },
  {
   "cell_type": "code",
   "execution_count": 26,
   "metadata": {},
   "outputs": [
    {
     "data": {
      "text/plain": [
       "1    20988\n",
       "0     6113\n",
       "Name: OD_Coverage, dtype: int64"
      ]
     },
     "execution_count": 26,
     "metadata": {},
     "output_type": "execute_result"
    }
   ],
   "source": [
    "product1['OD_Coverage'].value_counts()"
   ]
  },
  {
   "cell_type": "code",
   "execution_count": 27,
   "metadata": {},
   "outputs": [
    {
     "data": {
      "text/plain": [
       "1    25710\n",
       "0     1391\n",
       "Name: PPA_Coverage, dtype: int64"
      ]
     },
     "execution_count": 27,
     "metadata": {},
     "output_type": "execute_result"
    }
   ],
   "source": [
    "product1['PPA_Coverage'].value_counts()"
   ]
  },
  {
   "cell_type": "code",
   "execution_count": 28,
   "metadata": {},
   "outputs": [
    {
     "data": {
      "text/plain": [
       "4497"
      ]
     },
     "execution_count": 28,
     "metadata": {},
     "output_type": "execute_result"
    }
   ],
   "source": [
    "product1['Annual_Premium_PDL'].min()"
   ]
  },
  {
   "cell_type": "code",
   "execution_count": 29,
   "metadata": {},
   "outputs": [
    {
     "data": {
      "text/plain": [
       "162312"
      ]
     },
     "execution_count": 29,
     "metadata": {},
     "output_type": "execute_result"
    }
   ],
   "source": [
    "product1['Annual_Premium_PDL'].max()"
   ]
  },
  {
   "cell_type": "code",
   "execution_count": 30,
   "metadata": {},
   "outputs": [
    {
     "data": {
      "text/plain": [
       "array([  4000,   5000,   6000,   7000,   8000,   9000,  10000,  11000,\n",
       "        12000,  13000,  14000,  15000,  16000,  17000,  18000,  19000,\n",
       "        20000,  21000,  22000,  23000,  24000,  25000,  26000,  27000,\n",
       "        28000,  29000,  30000,  31000,  32000,  33000,  34000,  35000,\n",
       "        36000,  37000,  38000,  39000,  40000,  41000,  42000,  43000,\n",
       "        44000,  45000,  46000,  47000,  48000,  49000,  50000,  51000,\n",
       "        52000,  53000,  54000,  55000,  56000,  57000,  58000,  59000,\n",
       "        60000,  61000,  62000,  63000,  64000,  65000,  66000,  67000,\n",
       "        68000,  69000,  70000,  71000,  72000,  73000,  74000,  75000,\n",
       "        76000,  77000,  78000,  79000,  80000,  81000,  82000,  83000,\n",
       "        84000,  85000,  86000,  87000,  88000,  89000,  90000,  91000,\n",
       "        92000,  93000,  94000,  95000,  96000,  97000,  98000,  99000,\n",
       "       100000, 101000, 102000, 103000, 104000, 105000, 106000, 107000,\n",
       "       108000, 109000, 110000, 111000, 112000, 113000, 114000, 115000,\n",
       "       116000, 117000, 118000, 119000, 120000, 121000, 122000, 123000,\n",
       "       124000, 125000, 126000, 127000, 128000, 129000, 130000, 131000,\n",
       "       132000, 133000, 134000, 135000, 136000, 137000, 138000, 139000,\n",
       "       140000, 141000, 142000, 143000, 144000, 145000, 146000, 147000,\n",
       "       148000, 149000, 150000, 151000, 152000, 153000, 154000, 155000,\n",
       "       156000, 157000, 158000, 159000, 160000, 161000, 162000, 163000,\n",
       "       164000, 165000, 166000, 167000, 168000, 169000])"
      ]
     },
     "execution_count": 30,
     "metadata": {},
     "output_type": "execute_result"
    }
   ],
   "source": [
    "bin_values = np.arange(start=4000, stop=170000, step=1000)\n",
    "bin_values"
   ]
  },
  {
   "cell_type": "code",
   "execution_count": 31,
   "metadata": {},
   "outputs": [
    {
     "data": {
      "image/png": "[encoded data removed]",
      "text/plain": [
       "<matplotlib.figure.Figure at 0x10dfecd68>"
      ]
     },
     "metadata": {},
     "output_type": "display_data"
    }
   ],
   "source": [
    "# wn_carrier = data[data['unique_carrier'] == 'WN']\n",
    "product1['Annual_Premium_PDL'].hist(bins=bin_values, figsize=[6,6])\n",
    "plt.title('Distribution of BIL Premium')\n",
    "plt.xlabel('bodily injury liability Policy Premium Range')\n",
    "plt.ylabel('Frequency')\n",
    "plt.show()"
   ]
  },
  {
   "cell_type": "code",
   "execution_count": 32,
   "metadata": {
    "collapsed": true
   },
   "outputs": [],
   "source": [
    "product2 = product1[(product1['Annual_Premium_PDL'] >= 10000) & (product1['Annual_Premium_PDL'] <= 30000)]"
   ]
  },
  {
   "cell_type": "code",
   "execution_count": 33,
   "metadata": {},
   "outputs": [
    {
     "data": {
      "text/plain": [
       "10000"
      ]
     },
     "execution_count": 33,
     "metadata": {},
     "output_type": "execute_result"
    }
   ],
   "source": [
    "product2['Annual_Premium_PDL'].min()"
   ]
  },
  {
   "cell_type": "code",
   "execution_count": 34,
   "metadata": {
    "scrolled": true
   },
   "outputs": [
    {
     "data": {
      "text/plain": [
       "29985"
      ]
     },
     "execution_count": 34,
     "metadata": {},
     "output_type": "execute_result"
    }
   ],
   "source": [
    "product2['Annual_Premium_PDL'].max()"
   ]
  },
  {
   "cell_type": "code",
   "execution_count": 35,
   "metadata": {
    "scrolled": true
   },
   "outputs": [
    {
     "data": {
      "text/plain": [
       "16359.579080025205"
      ]
     },
     "execution_count": 35,
     "metadata": {},
     "output_type": "execute_result"
    }
   ],
   "source": [
    "product2['Annual_Premium_PDL'].mean()"
   ]
  },
  {
   "cell_type": "code",
   "execution_count": 36,
   "metadata": {
    "scrolled": true
   },
   "outputs": [
    {
     "data": {
      "text/plain": [
       "array([10000, 10100, 10200, 10300, 10400, 10500, 10600, 10700, 10800,\n",
       "       10900, 11000, 11100, 11200, 11300, 11400, 11500, 11600, 11700,\n",
       "       11800, 11900, 12000, 12100, 12200, 12300, 12400, 12500, 12600,\n",
       "       12700, 12800, 12900, 13000, 13100, 13200, 13300, 13400, 13500,\n",
       "       13600, 13700, 13800, 13900, 14000, 14100, 14200, 14300, 14400,\n",
       "       14500, 14600, 14700, 14800, 14900, 15000, 15100, 15200, 15300,\n",
       "       15400, 15500, 15600, 15700, 15800, 15900, 16000, 16100, 16200,\n",
       "       16300, 16400, 16500, 16600, 16700, 16800, 16900, 17000, 17100,\n",
       "       17200, 17300, 17400, 17500, 17600, 17700, 17800, 17900, 18000,\n",
       "       18100, 18200, 18300, 18400, 18500, 18600, 18700, 18800, 18900,\n",
       "       19000, 19100, 19200, 19300, 19400, 19500, 19600, 19700, 19800,\n",
       "       19900, 20000, 20100, 20200, 20300, 20400, 20500, 20600, 20700,\n",
       "       20800, 20900, 21000, 21100, 21200, 21300, 21400, 21500, 21600,\n",
       "       21700, 21800, 21900, 22000, 22100, 22200, 22300, 22400, 22500,\n",
       "       22600, 22700, 22800, 22900, 23000, 23100, 23200, 23300, 23400,\n",
       "       23500, 23600, 23700, 23800, 23900, 24000, 24100, 24200, 24300,\n",
       "       24400, 24500, 24600, 24700, 24800, 24900, 25000, 25100, 25200,\n",
       "       25300, 25400, 25500, 25600, 25700, 25800, 25900, 26000, 26100,\n",
       "       26200, 26300, 26400, 26500, 26600, 26700, 26800, 26900, 27000,\n",
       "       27100, 27200, 27300, 27400, 27500, 27600, 27700, 27800, 27900,\n",
       "       28000, 28100, 28200, 28300, 28400, 28500, 28600, 28700, 28800,\n",
       "       28900, 29000, 29100, 29200, 29300, 29400, 29500, 29600, 29700,\n",
       "       29800, 29900])"
      ]
     },
     "execution_count": 36,
     "metadata": {},
     "output_type": "execute_result"
    }
   ],
   "source": [
    "bin_values = np.arange(start = 10000, stop=30000, step=100)\n",
    "bin_values"
   ]
  },
  {
   "cell_type": "code",
   "execution_count": 37,
   "metadata": {},
   "outputs": [
    {
     "data": {
      "image/png": "[encoded data removed]",
      "text/plain": [
       "<matplotlib.figure.Figure at 0x10d977278>"
      ]
     },
     "metadata": {},
     "output_type": "display_data"
    }
   ],
   "source": [
    "# wn_carrier = data[data['unique_carrier'] == 'WN']\n",
    "product2['Annual_Premium_PDL'].hist(bins=bin_values, figsize=[6,6],facecolor='lightcoral')\n",
    "plt.title('Distribution of PDL Premium with range from 10000 to 30000')\n",
    "plt.xlabel('Property Damage liability Policy Premium Range')\n",
    "plt.ylabel('Frequency')\n",
    "plt.show()\n"
   ]
  },
  {
   "cell_type": "code",
   "execution_count": null,
   "metadata": {
    "collapsed": true
   },
   "outputs": [],
   "source": []
  },
  {
   "cell_type": "code",
   "execution_count": null,
   "metadata": {
    "collapsed": true
   },
   "outputs": [],
   "source": []
  }
 ],
 "metadata": {
  "kernelspec": {
   "display_name": "Python 3",
   "language": "python",
   "name": "python3"
  },
  "language_info": {
   "codemirror_mode": {
    "name": "ipython",
    "version": 3
   },
   "file_extension": ".py",
   "mimetype": "text/x-python",
   "name": "python",
   "nbconvert_exporter": "python",
   "pygments_lexer": "ipython3",
   "version": "3.6.3"
  }
 },
 "nbformat": 4,
 "nbformat_minor": 2
}
