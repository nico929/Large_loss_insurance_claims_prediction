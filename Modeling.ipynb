{
 "cells": [
  {
   "cell_type": "code",
   "execution_count": 1,
   "metadata": {
    "collapsed": true
   },
   "outputs": [],
   "source": [
    "import numpy as np\n",
    "import pandas as pd\n",
    "import re\n",
    "import seaborn as sns\n",
    "import matplotlib.pyplot as plt\n",
    "from sklearn.feature_extraction.text import CountVectorizer\n",
    "from sklearn.metrics.pairwise import euclidean_distances"
   ]
  },
  {
   "cell_type": "code",
   "execution_count": 2,
   "metadata": {},
   "outputs": [
    {
     "data": {
      "text/plain": [
       "(518077, 73)"
      ]
     },
     "execution_count": 2,
     "metadata": {},
     "output_type": "execute_result"
    }
   ],
   "source": [
    "# reading csv claimdata_utf8\n",
    "# check number of observations and features\n",
    "lar_loss = pd.read_csv('new_claimdata.csv', low_memory=False)\n",
    "lar_loss.shape"
   ]
  },
  {
   "cell_type": "code",
   "execution_count": 3,
   "metadata": {
    "collapsed": true
   },
   "outputs": [],
   "source": [
    "def datetime(new_feature,feature,year,month,date):\n",
    "    lar_loss[new_feature] = pd.to_datetime(lar_loss[feature])\n",
    "    lar_loss[year] = lar_loss[new_feature].dt.year\n",
    "    lar_loss[month] = lar_loss[new_feature].dt.month\n",
    "    lar_loss[date] = lar_loss[new_feature].dt.day\n",
    "    return lar_loss[year].head()"
   ]
  },
  {
   "cell_type": "code",
   "execution_count": 4,
   "metadata": {},
   "outputs": [
    {
     "data": {
      "text/plain": [
       "0    2010\n",
       "1    2010\n",
       "2    2010\n",
       "3    2010\n",
       "4    2010\n",
       "Name: Effective_year, dtype: int64"
      ]
     },
     "execution_count": 4,
     "metadata": {},
     "output_type": "execute_result"
    }
   ],
   "source": [
    "datetime('Event_Occurrence','Event_Occurrence_Month','Event_Occurrence_year','Event_Occurrence_month','Event_Occurrence_date')\n",
    "datetime('Inception','Inception_Month','Inception_year', 'Inception_month','Inception_date')\n",
    "datetime('Issued','Issued_Date','Issued_year','Issued_month','Issued_date')\n",
    "datetime('Effective','Effective_Date','Effective_year','Effective_month','Effective_date')"
   ]
  },
  {
   "cell_type": "code",
   "execution_count": 5,
   "metadata": {
    "collapsed": true
   },
   "outputs": [],
   "source": [
    "columns = list(lar_loss.columns)\n",
    "feature_lst = ['EV_LARGE','Insured_Age_Range','Event_Occurrence','Event_Occurrence_Month',\n",
    "              'Inception','Inception_Month','Issued','Issued_Date','Effective','Effective_Date',\n",
    "              'Event_Number','Claim_Number','Incurred']\n",
    "features_to_use = [col for col in columns if col not in feature_lst]\n",
    "#features_to_use"
   ]
  },
  {
   "cell_type": "code",
   "execution_count": 6,
   "metadata": {
    "collapsed": true
   },
   "outputs": [],
   "source": [
    "X = lar_loss[features_to_use]\n",
    "y = lar_loss['EV_LARGE']"
   ]
  },
  {
   "cell_type": "markdown",
   "metadata": {},
   "source": [
    "# Modeling"
   ]
  },
  {
   "cell_type": "markdown",
   "metadata": {},
   "source": [
    "#Ensemble methods: Random forest and XGBoost \n",
    "\n",
    "- using all features \n",
    "\n",
    "- no cross_validation\n",
    "\n",
    "- no parameter tuning\n",
    "\n",
    "- no regularization"
   ]
  },
  {
   "cell_type": "markdown",
   "metadata": {},
   "source": [
    "#### First split into training and testing set"
   ]
  },
  {
   "cell_type": "code",
   "execution_count": 7,
   "metadata": {
    "collapsed": true
   },
   "outputs": [],
   "source": [
    "from sklearn.model_selection import train_test_split\n",
    "training_features, test_features, \\\n",
    "training_target, test_target, = train_test_split(X,y,test_size = 0.25, random_state=50)"
   ]
  },
  {
   "cell_type": "markdown",
   "metadata": {},
   "source": [
    "#### First split training set into X_train and X_validation"
   ]
  },
  {
   "cell_type": "code",
   "execution_count": 86,
   "metadata": {
    "collapsed": true
   },
   "outputs": [],
   "source": [
    "X_train, X_val, y_train, y_val = train_test_split(training_features, training_target,\n",
    "                                                  test_size = 0.25,\n",
    "                                                  random_state=50)"
   ]
  },
  {
   "cell_type": "markdown",
   "metadata": {},
   "source": [
    "##### Then, SMOTE resampling"
   ]
  },
  {
   "cell_type": "code",
   "execution_count": 9,
   "metadata": {
    "scrolled": false
   },
   "outputs": [
    {
     "name": "stderr",
     "output_type": "stream",
     "text": [
      "/Users/yingliu/anaconda3/lib/python3.6/site-packages/sklearn/utils/deprecation.py:77: DeprecationWarning: Function _ratio_float is deprecated; Use a float for 'ratio' is deprecated from version 0.2. The support will be removed in 0.4. Use a dict, str, or a callable instead.\n",
      "  warnings.warn(msg, category=DeprecationWarning)\n"
     ]
    }
   ],
   "source": [
    "from imblearn.over_sampling import SMOTE\n",
    "from collections import Counter\n",
    "sm = SMOTE(random_state=50, ratio = 1.0)\n",
    "x_train_res, y_train_res = sm.fit_sample(X_train, y_train)"
   ]
  },
  {
   "cell_type": "code",
   "execution_count": 10,
   "metadata": {},
   "outputs": [
    {
     "name": "stdout",
     "output_type": "stream",
     "text": [
      "Original dataset shape Counter({0: 466851, 1: 51226})\n",
      "518077\n"
     ]
    }
   ],
   "source": [
    "from collections import Counter ## the entire dataset\n",
    "\n",
    "print('Original dataset shape {}'.format(Counter(y)))\n",
    "print(len(y))"
   ]
  },
  {
   "cell_type": "code",
   "execution_count": 11,
   "metadata": {},
   "outputs": [
    {
     "name": "stdout",
     "output_type": "stream",
     "text": [
      "Original dataset shape Counter({0: 349982, 1: 38575})\n",
      "388557\n"
     ]
    }
   ],
   "source": [
    "### training part\n",
    "print('Original dataset shape {}'.format(Counter(training_target)))\n",
    "print(len(training_target))"
   ]
  },
  {
   "cell_type": "code",
   "execution_count": 12,
   "metadata": {},
   "outputs": [
    {
     "name": "stdout",
     "output_type": "stream",
     "text": [
      "Original dataset shape Counter({0: 116869, 1: 12651})\n",
      "129520\n"
     ]
    }
   ],
   "source": [
    "### testing part\n",
    "print('Original dataset shape {}'.format(Counter(test_target)))\n",
    "print(len(test_target))"
   ]
  },
  {
   "cell_type": "code",
   "execution_count": 13,
   "metadata": {},
   "outputs": [
    {
     "name": "stdout",
     "output_type": "stream",
     "text": [
      "Original dataset shape Counter({0: 262504, 1: 28913})\n",
      "291417\n"
     ]
    }
   ],
   "source": [
    "### y_train part after splitting\n",
    "print('Original dataset shape {}'.format(Counter(y_train)))\n",
    "print(len(y_train))"
   ]
  },
  {
   "cell_type": "code",
   "execution_count": 14,
   "metadata": {},
   "outputs": [
    {
     "name": "stdout",
     "output_type": "stream",
     "text": [
      "Original dataset shape Counter({0: 87478, 1: 9662})\n",
      "97140\n"
     ]
    }
   ],
   "source": [
    "### y_val part\n",
    "print('Original dataset shape {}'.format(Counter(y_val)))\n",
    "print(len(y_val))"
   ]
  },
  {
   "cell_type": "code",
   "execution_count": 15,
   "metadata": {},
   "outputs": [
    {
     "name": "stdout",
     "output_type": "stream",
     "text": [
      "Original dataset shape Counter({0: 262504, 1: 262504})\n",
      "525008\n"
     ]
    }
   ],
   "source": [
    "### y_train_res with respective to y_train part after resampling\n",
    "print('Original dataset shape {}'.format(Counter(y_train_res)))\n",
    "print(len(y_train_res))"
   ]
  },
  {
   "cell_type": "markdown",
   "metadata": {},
   "source": [
    "### Random Forest Before resampling"
   ]
  },
  {
   "cell_type": "code",
   "execution_count": 16,
   "metadata": {},
   "outputs": [
    {
     "data": {
      "text/plain": [
       "RandomForestClassifier(bootstrap=True, class_weight=None, criterion='entropy',\n",
       "            max_depth=None, max_features='auto', max_leaf_nodes=None,\n",
       "            min_impurity_decrease=0.0, min_impurity_split=None,\n",
       "            min_samples_leaf=1, min_samples_split=2,\n",
       "            min_weight_fraction_leaf=0.0, n_estimators=100, n_jobs=1,\n",
       "            oob_score=False, random_state=50, verbose=0, warm_start=False)"
      ]
     },
     "execution_count": 16,
     "metadata": {},
     "output_type": "execute_result"
    }
   ],
   "source": [
    "# RanfomForestClassifier\n",
    "from sklearn.model_selection import train_test_split\n",
    "from sklearn.metrics import log_loss\n",
    "from sklearn.metrics import accuracy_score\n",
    "from sklearn.metrics import roc_auc_score\n",
    "from sklearn.ensemble import RandomForestClassifier\n",
    "random_state = 50\n",
    "rf = RandomForestClassifier(n_estimators=100, criterion='entropy',  n_jobs = 1,  random_state=random_state)\n",
    "rf.fit(X_train, y_train)\n"
   ]
  },
  {
   "cell_type": "markdown",
   "metadata": {},
   "source": [
    "### Modeling Evaluation\n",
    "\n",
    "***AUC score***"
   ]
  },
  {
   "cell_type": "code",
   "execution_count": 62,
   "metadata": {
    "scrolled": true
   },
   "outputs": [
    {
     "name": "stdout",
     "output_type": "stream",
     "text": [
      "Validation Results\n",
      "0.932569910152\n",
      "\n",
      "Test Results\n",
      "0.933924671414\n"
     ]
    }
   ],
   "source": [
    "### Validation Set\n",
    "y_val_rf_pred_prob = rf.predict_proba(X_val)\n",
    "print('Validation Results')\n",
    "# print clf_rf.score(x_val, y_val)\n",
    "print(roc_auc_score(y_val, y_val_rf_pred_prob[:, 1]))\n",
    "\n",
    "### Testing part\n",
    "y_test_rf_pred_prob = rf.predict_proba(test_features)\n",
    "print ('\\nTest Results')\n",
    "print(roc_auc_score(test_target, y_test_rf_pred_prob[:, 1]))"
   ]
  },
  {
   "cell_type": "markdown",
   "metadata": {},
   "source": [
    "*** Recall Score ***"
   ]
  },
  {
   "cell_type": "code",
   "execution_count": 18,
   "metadata": {},
   "outputs": [
    {
     "name": "stdout",
     "output_type": "stream",
     "text": [
      "Validation Results\n",
      "[ 0.99780516  0.67387704]\n",
      "\n",
      "Test Results\n",
      "[ 0.99806621  0.68018338]\n"
     ]
    }
   ],
   "source": [
    "from sklearn.metrics import recall_score\n",
    "\n",
    "### Validation Set\n",
    "\n",
    "print('Validation Results')\n",
    "# print(recall_score(y_val, rf.predict(X_val)))\n",
    "print(recall_score(y_val, rf.predict(X_val),average = None))\n",
    "### Testing part\n",
    "\n",
    "print ('\\nTest Results')\n",
    "# print (recall_score(test_target, rf.predict(test_features)))\n",
    "print(recall_score(test_target, rf.predict(test_features),average = None))\n"
   ]
  },
  {
   "cell_type": "code",
   "execution_count": 19,
   "metadata": {
    "collapsed": true
   },
   "outputs": [],
   "source": [
    "# from sklearn.metrics import log_loss\n",
    "# logloss = log_loss(y_val, y_val_pred_prob)\n",
    "# logloss"
   ]
  },
  {
   "cell_type": "markdown",
   "metadata": {},
   "source": [
    "### Random Forest after resampling"
   ]
  },
  {
   "cell_type": "code",
   "execution_count": 21,
   "metadata": {},
   "outputs": [
    {
     "data": {
      "text/plain": [
       "RandomForestClassifier(bootstrap=True, class_weight=None, criterion='entropy',\n",
       "            max_depth=None, max_features='auto', max_leaf_nodes=None,\n",
       "            min_impurity_decrease=0.0, min_impurity_split=None,\n",
       "            min_samples_leaf=1, min_samples_split=2,\n",
       "            min_weight_fraction_leaf=0.0, n_estimators=100, n_jobs=1,\n",
       "            oob_score=False, random_state=50, verbose=0, warm_start=False)"
      ]
     },
     "execution_count": 21,
     "metadata": {},
     "output_type": "execute_result"
    }
   ],
   "source": [
    "rf_resampling = RandomForestClassifier(n_estimators=100, criterion='entropy',  n_jobs = 1,  random_state=random_state)\n",
    "rf_resampling.fit(x_train_res, y_train_res)"
   ]
  },
  {
   "cell_type": "markdown",
   "metadata": {},
   "source": [
    "### Evaluation after resampling"
   ]
  },
  {
   "cell_type": "code",
   "execution_count": 63,
   "metadata": {},
   "outputs": [
    {
     "name": "stdout",
     "output_type": "stream",
     "text": [
      "AUC Score metric\n",
      "Validation Results\n",
      "0.930152537415\n",
      "\n",
      "Test Results\n",
      "0.932669195393\n",
      "\n",
      "Recall Score metric\n",
      "Validation Results\n",
      "[ 0.9967992   0.68391637]\n",
      "\n",
      "Test Results\n",
      "[ 0.99722767  0.68911548]\n"
     ]
    }
   ],
   "source": [
    "### AUC Score\n",
    "\n",
    "### Validation Set\n",
    "y_val_rf_res_pred_prob = rf_resampling.predict_proba(X_val)\n",
    "print('AUC Score metric')\n",
    "print('Validation Results')\n",
    "# print clf_rf.score(x_val, y_val)\n",
    "print(roc_auc_score(y_val, y_val_rf_res_pred_prob[:, 1]))\n",
    "\n",
    "### Testing part\n",
    "y_test_rf_res_pred_prob = rf_resampling.predict_proba(test_features)\n",
    "print ('\\nTest Results')\n",
    "print(roc_auc_score(test_target, y_test_rf_res_pred_prob[:, 1]))\n",
    "\n",
    "### Recall Score\n",
    "\n",
    "### Validation Set\n",
    "print('\\nRecall Score metric')\n",
    "print('Validation Results')\n",
    "print(recall_score(y_val, rf_resampling.predict(X_val),average = None))\n",
    "### Testing part\n",
    "\n",
    "print ('\\nTest Results')\n",
    "# print (recall_score(test_target, rf.predict(test_features)))\n",
    "print(recall_score(test_target, rf_resampling.predict(test_features),average = None))\n"
   ]
  },
  {
   "cell_type": "markdown",
   "metadata": {},
   "source": [
    "### XGBoost Modeling"
   ]
  },
  {
   "cell_type": "code",
   "execution_count": 23,
   "metadata": {},
   "outputs": [
    {
     "name": "stderr",
     "output_type": "stream",
     "text": [
      "/Users/yingliu/anaconda3/lib/python3.6/site-packages/sklearn/cross_validation.py:41: DeprecationWarning: This module was deprecated in version 0.18 in favor of the model_selection module into which all the refactored classes and functions are moved. Also note that the interface of the new CV iterators are different from that of this module. This module will be removed in 0.20.\n",
      "  \"This module will be removed in 0.20.\", DeprecationWarning)\n"
     ]
    },
    {
     "data": {
      "text/plain": [
       "XGBClassifier(base_score=0.5, colsample_bylevel=1, colsample_bytree=1,\n",
       "       gamma=0, learning_rate=0.1, max_delta_step=0, max_depth=3,\n",
       "       min_child_weight=1, missing=None, n_estimators=100, nthread=-1,\n",
       "       objective='binary:logistic', reg_alpha=0, reg_lambda=1,\n",
       "       scale_pos_weight=1, seed=50, silent=True, subsample=1)"
      ]
     },
     "execution_count": 23,
     "metadata": {},
     "output_type": "execute_result"
    }
   ],
   "source": [
    "# XGBoost\n",
    "from xgboost import XGBClassifier\n",
    "random_state=50\n",
    "xgb = XGBClassifier(seed=random_state)\n",
    "xgb.fit(X_train, y_train)"
   ]
  },
  {
   "cell_type": "markdown",
   "metadata": {},
   "source": [
    "### Modeling Evaluation"
   ]
  },
  {
   "cell_type": "code",
   "execution_count": 64,
   "metadata": {},
   "outputs": [
    {
     "name": "stdout",
     "output_type": "stream",
     "text": [
      "AUC Score\n",
      "Validation Results\n",
      "0.678912033306\n",
      "\n",
      "Test Results\n",
      "0.684678495171\n"
     ]
    }
   ],
   "source": [
    "from sklearn.metrics import roc_auc_score\n",
    "### Validation Set\n",
    "y_val_xgb_pred_prob = xgb.predict_proba(X_val)\n",
    "print('AUC Score')\n",
    "print('Validation Results')\n",
    "# print clf_rf.score(x_val, y_val)\n",
    "print(roc_auc_score(y_val, y_val_xgb_pred_prob[:, 1]))\n",
    "\n",
    "### Testing part\n",
    "y_test_xgb_pred_prob = xgb.predict_proba(test_features)\n",
    "print ('\\nTest Results')\n",
    "print(roc_auc_score(test_target, y_test_xgb_pred_prob[:, 1]))\n",
    "\n",
    "\n",
    "# print recall_score(y_val, clf_rf.predict(x_val))\n",
    "\n",
    "# print clf_rf.score(test_features, test_target)\n",
    "# print recall_score(test_target, clf_rf.predict(test_features))"
   ]
  },
  {
   "cell_type": "code",
   "execution_count": 65,
   "metadata": {},
   "outputs": [
    {
     "name": "stdout",
     "output_type": "stream",
     "text": [
      "Recall Score\n",
      "Validation Results\n",
      "[ 0.99973708  0.0058994 ]\n",
      "\n",
      "Test Results\n",
      "[ 0.99975186  0.00497984]\n"
     ]
    }
   ],
   "source": [
    "from sklearn.metrics import recall_score\n",
    "\n",
    "### Validation Set\n",
    "print('Recall Score')\n",
    "print('Validation Results')\n",
    "# print(recall_score(y_val, rf.predict(X_val)))\n",
    "print(recall_score(y_val, xgb.predict(X_val),average = None))\n",
    "### Testing part\n",
    "\n",
    "print ('\\nTest Results')\n",
    "# print (recall_score(test_target, rf.predict(test_features)))\n",
    "print(recall_score(test_target, xgb.predict(test_features),average = None))\n"
   ]
  },
  {
   "cell_type": "markdown",
   "metadata": {},
   "source": [
    "### XGBoost after resampling"
   ]
  },
  {
   "cell_type": "code",
   "execution_count": 26,
   "metadata": {},
   "outputs": [
    {
     "data": {
      "text/plain": [
       "XGBClassifier(base_score=0.5, colsample_bylevel=1, colsample_bytree=1,\n",
       "       gamma=0, learning_rate=0.1, max_delta_step=0, max_depth=3,\n",
       "       min_child_weight=1, missing=None, n_estimators=100, nthread=-1,\n",
       "       objective='binary:logistic', reg_alpha=0, reg_lambda=1,\n",
       "       scale_pos_weight=1, seed=50, silent=True, subsample=1)"
      ]
     },
     "execution_count": 26,
     "metadata": {},
     "output_type": "execute_result"
    }
   ],
   "source": [
    "### Modeling after resampling\n",
    "xgb_resampling = XGBClassifier(seed=random_state)\n",
    "xgb_resampling.fit(x_train_res, y_train_res)"
   ]
  },
  {
   "cell_type": "markdown",
   "metadata": {},
   "source": [
    "### Evaluation after resampling"
   ]
  },
  {
   "cell_type": "code",
   "execution_count": 33,
   "metadata": {
    "collapsed": true
   },
   "outputs": [],
   "source": [
    "X_val_2 = X_val.as_matrix()"
   ]
  },
  {
   "cell_type": "code",
   "execution_count": 39,
   "metadata": {
    "collapsed": true
   },
   "outputs": [],
   "source": [
    "y_val_2 = y_val.as_matrix()"
   ]
  },
  {
   "cell_type": "code",
   "execution_count": 43,
   "metadata": {
    "collapsed": true
   },
   "outputs": [],
   "source": [
    "test_features_2 = test_features.as_matrix()\n",
    "test_target_2 = test_target.as_matrix()"
   ]
  },
  {
   "cell_type": "code",
   "execution_count": 66,
   "metadata": {},
   "outputs": [
    {
     "name": "stdout",
     "output_type": "stream",
     "text": [
      "AUC Score\n",
      "Validation Results\n",
      "0.648172897328\n",
      "\n",
      "Test Results\n",
      "0.649756226594\n",
      "Recall Score\n",
      "Validation Results\n",
      "[ 0.93000526  0.20275305]\n",
      "\n",
      "Test Results\n",
      "[ 0.92939103  0.20259268]\n"
     ]
    }
   ],
   "source": [
    "## AUC Score\n",
    "\n",
    "## Validation Set\n",
    "y_val_xgb_res_pred = xgb_resampling.predict_proba(X_val_2)\n",
    "print('AUC Score')\n",
    "print('Validation Results')\n",
    "# print clf_rf.score(x_val, y_val)\n",
    "print(roc_auc_score(y_val_2, y_val_xgb_res_pred[:, 1]))\n",
    "\n",
    "# ## Testing part\n",
    "y_test_xgb_res_pred = xgb_resampling.predict_proba(test_features_2)\n",
    "print ('\\nTest Results')\n",
    "print(roc_auc_score(test_target_2, y_test_xgb_res_pred[:, 1]))\n",
    "\n",
    "## Recall Score\n",
    "\n",
    "### Validation Set\n",
    "print('Recall Score')\n",
    "\n",
    "print('Validation Results')\n",
    "# print clf_rf.score(x_val, y_val)\n",
    "print(recall_score(y_val_2, xgb_resampling.predict(X_val_2),average = None))\n",
    "\n",
    "### Testing part\n",
    "\n",
    "print ('\\nTest Results')\n",
    "print(recall_score(test_target_2, xgb_resampling.predict(test_features_2),average = None))"
   ]
  },
  {
   "cell_type": "markdown",
   "metadata": {},
   "source": [
    "# Feature importance"
   ]
  },
  {
   "cell_type": "markdown",
   "metadata": {},
   "source": [
    "- try to discover what features most contribute to predicting the large loss\n",
    "\n",
    "- use Random forest and XGBoost"
   ]
  },
  {
   "cell_type": "code",
   "execution_count": 72,
   "metadata": {
    "collapsed": true
   },
   "outputs": [],
   "source": [
    "import numpy as np\n",
    "importances = rf.feature_importances_\n",
    "importances\n",
    "std = np.std([tree.feature_importances_ for tree in rf.estimators_],\n",
    "             axis=0)\n",
    "indices = np.argsort(importances)[::-1]"
   ]
  },
  {
   "cell_type": "code",
   "execution_count": 73,
   "metadata": {
    "collapsed": true
   },
   "outputs": [],
   "source": [
    "# feature_lst_2 = ['EV_LARGE','Insured_Age_Range','Event_Occurrence','Event_Occurrence_Month',\n",
    "#               'Inception','Inception_Month','Issued','Issued_Date','Effective','Effective_Date',\n",
    "#               'Event_Number','Claim_Number','Incurred','Issued_Time','Effective_date','Event_Occurrence_month',\n",
    "#                 'Issued_date']\n",
    "# features_to_use = [col for col in columns if col not in feature_lst_2]\n",
    "# #features_to_use"
   ]
  },
  {
   "cell_type": "code",
   "execution_count": 75,
   "metadata": {
    "collapsed": true
   },
   "outputs": [],
   "source": [
    "X = lar_loss[features_to_use]\n",
    "y = lar_loss['EV_LARGE']"
   ]
  },
  {
   "cell_type": "code",
   "execution_count": 76,
   "metadata": {
    "scrolled": false
   },
   "outputs": [
    {
     "name": "stdout",
     "output_type": "stream",
     "text": [
      "Feature ranking:\n",
      "1. Annual_Premium (0.044452)\n",
      "2. Annual_Premium_BIL (0.044134)\n",
      "3. Annual_Premium_PDL (0.044024)\n",
      "4. Issued_Time (0.043367)\n",
      "5. Annual_Premium_PPA (0.042108)\n",
      "6. Annual_Premium_PI (0.037424)\n",
      "7. Insured_Age (0.036836)\n",
      "8. Effective_date (0.034313)\n",
      "9. Issued_date (0.033108)\n",
      "10. Annual_Premium_OD (0.032603)\n",
      "11. Event_Occurrence_month (0.032261)\n",
      "12. Annual_Premium_ODPE (0.031812)\n",
      "13. Annual_Premium_PE (0.031401)\n",
      "14. Prefecture (0.031179)\n",
      "15. Car_Age (0.028976)\n",
      "16. Bonus_Malus (0.024339)\n",
      "17. Issued_month (0.023333)\n",
      "18. Renewal_Times (0.022723)\n",
      "19. Effective_month (0.022553)\n",
      "20. Inception_month (0.022218)\n",
      "21. IN_OUTPATIENT (0.021042)\n",
      "22. Original_Channel (0.017700)\n",
      "23. PI_Class (0.017660)\n",
      "24. Region (0.014599)\n",
      "25. PI_Limit (0.013084)\n",
      "26. Insured_Age_Range_Num (0.012958)\n",
      "27. Bonus_Malus_Range (0.012289)\n",
      "28. Family_Restriction (0.011897)\n",
      "29. Reason (0.010575)\n",
      "30. Car_Type (0.010300)\n",
      "31. Payment_Method (0.009979)\n",
      "32. Prev_Insurer_Category (0.009922)\n",
      "33. Event_Occurrence_year (0.009884)\n",
      "34. Deduct (0.009650)\n",
      "35. Mileage (0.009487)\n",
      "36. PPA_Limit (0.009476)\n",
      "37. Issued_year (0.008465)\n",
      "38. Effective_year (0.008425)\n",
      "39. Contract_Status (0.007958)\n",
      "40. Inception_year (0.007833)\n",
      "41. Age_Restriction (0.007781)\n",
      "42. Annual_Premium_LE (0.007416)\n",
      "43. License_Color (0.006837)\n",
      "44. Insured_Sex (0.006681)\n",
      "45. Usage (0.006569)\n",
      "46. Internet_Discount (0.005785)\n",
      "47. PDL_Limit (0.004987)\n",
      "48. PI_Type (0.004497)\n",
      "49. Payment_Type1 (0.004200)\n",
      "50. PDL_Special_Coverage (0.004112)\n",
      "51. LE_Coverage (0.004042)\n",
      "52. OD_Type (0.003568)\n",
      "53. Annual_Premium_AXAP (0.003450)\n",
      "54. Annual_Premium_FB (0.003342)\n",
      "55. Annual_Premium_FBP (0.003336)\n",
      "56. Previous_Accidents (0.003278)\n",
      "57. Annual_Premium_FBB (0.003036)\n",
      "58. Annual_Premium_PL (0.002410)\n",
      "59. PI_Coverage (0.002406)\n",
      "60. Annual_Premium_PSE (0.002227)\n",
      "61. FB_Coverage (0.001918)\n",
      "62. Annual_Premium_HK (0.001849)\n",
      "63. Anshin_Plus (0.001348)\n",
      "64. Anshin_Plus_Family (0.001204)\n",
      "65. OD_Coverage (0.001105)\n",
      "66. PPA_Coverage (0.001097)\n",
      "67. Annual_Premium_PET (0.000989)\n",
      "68. Annual_Premium_EQ (0.000885)\n",
      "69. Annual_Premium_PPD (0.000876)\n",
      "70. Anshin_Plus_Pet (0.000723)\n",
      "71. EQ_Coverage (0.000687)\n",
      "72. Anshin_Plus_Ladies (0.000546)\n",
      "73. Automatic_Renewal (0.000465)\n",
      "74. Event_Occurrence_date (0.000000)\n",
      "75. Inception_date (0.000000)\n",
      "76. Tariff (0.000000)\n"
     ]
    },
    {
     "data": {
      "image/png": "[encoded data removed]",
      "text/plain": [
       "<matplotlib.figure.Figure at 0x14e167940>"
      ]
     },
     "metadata": {},
     "output_type": "display_data"
    }
   ],
   "source": [
    "# Print the feature ranking\n",
    "print(\"Feature ranking:\")\n",
    "for f in range(X.shape[1]):\n",
    "    print(\"%d. %s (%f)\" % (f + 1, X.columns[indices[f]], importances[indices[f]]))\n",
    "# Plot the feature importances of the forest\n",
    "plt.title(\"Feature Importance\", size = 30)\n",
    "plt.bar(range(X.shape[1]), importances[indices],\n",
    "       color=\"r\", yerr=std[indices], align=\"center\")\n",
    "plt.xticks(range(X.shape[1]),X.columns[indices], size =18)\n",
    "plt.xlim([-1, X.shape[1]])\n",
    "locs, labels = plt.xticks()\n",
    "plt.setp(labels, rotation=90)\n",
    "plt.show()"
   ]
  },
  {
   "cell_type": "markdown",
   "metadata": {},
   "source": [
    "### Visualization Evaluation"
   ]
  },
  {
   "cell_type": "code",
   "execution_count": 111,
   "metadata": {
    "scrolled": true
   },
   "outputs": [
    {
     "data": {
      "image/png": "[encoded data removed]",
      "text/plain": [
       "<matplotlib.figure.Figure at 0x25ae6cf28>"
      ]
     },
     "metadata": {},
     "output_type": "display_data"
    }
   ],
   "source": [
    "from sklearn import metrics\n",
    "import matplotlib.pyplot as plt\n",
    "% matplotlib inline\n",
    "\n",
    "# random forest\n",
    "fpr_rf, tpr_rf, thresholds_rf = metrics.roc_curve(test_target, y_test_rf_pred_prob[:, 1], pos_label=1)\n",
    "rf_roc_auc = metrics.auc(fpr_rf,tpr_rf)\n",
    "\n",
    "# plt.plot(fpr_rf,tpr_rf, color=\"blue\")\n",
    "\n",
    "# XGBoost\n",
    "fpr_xgb, tpr_xgb, thresholds_xgb = metrics.roc_curve(test_target, y_test_xgb_pred_prob[:, 1], pos_label=1)\n",
    "xgb_roc_auc = metrics.auc(fpr_xgb,tpr_xgb)\n",
    "\n",
    "# plt.plot(fpr_xgb, tpr_xgb, color=\"green\")\n",
    "\n",
    "\n",
    "plt.figure()\n",
    "plt.plot(fpr_rf, tpr_rf, color='darkorange',\n",
    "         lw=2, label='Random Forest (area = %0.2f)' % rf_roc_auc)\n",
    "plt.plot(fpr_xgb, tpr_xgb, color='darkgreen',\n",
    "         lw=2, label='XGBoost (area = %0.2f)' % xgb_roc_auc)\n",
    "plt.plot([0, 1], [0, 1], color='navy', lw=2, linestyle='--')\n",
    "plt.xlim([0.0, 1.0])\n",
    "plt.ylim([0.0, 1.05])\n",
    "plt.xlabel('False Positive Rate')\n",
    "plt.ylabel('True Positive Rate')\n",
    "plt.title('ROC Curve')\n",
    "plt.legend(loc=\"lower right\")\n",
    "plt.show()"
   ]
  },
  {
   "cell_type": "code",
   "execution_count": null,
   "metadata": {},
   "outputs": [
    {
     "name": "stderr",
     "output_type": "stream",
     "text": [
      "/Users/yingliu/anaconda3/lib/python3.6/site-packages/sklearn/cross_validation.py:41: DeprecationWarning: This module was deprecated in version 0.18 in favor of the model_selection module into which all the refactored classes and functions are moved. Also note that the interface of the new CV iterators are different from that of this module. This module will be removed in 0.20.\n",
      "  \"This module will be removed in 0.20.\", DeprecationWarning)\n"
     ]
    }
   ],
   "source": [
    "# XGBoost\n",
    "import xgboost as xgb\n",
    "xgb_params = {\"objective\": \"reg:linear\", \"eta\": 0.01, \"max_depth\": 10, \"seed\": 42, \"silent\": 1,\n",
    "             'colsample_bytree':0.9, 'gamma':0.3,  'min_child_weight':4,\n",
    "                     'reg_alpha':0.65, 'reg_lambda':5, 'subsample':0.9}\n",
    "num_rounds = 1000\n",
    "\n",
    "dtrain =  xgb.DMatrix(X_train, label=y_train)\n",
    "gbdt =  xgb.train(xgb_params, dtrain, num_rounds)"
   ]
  },
  {
   "cell_type": "code",
   "execution_count": 23,
   "metadata": {},
   "outputs": [
    {
     "data": {
      "text/plain": [
       "<matplotlib.figure.Figure at 0x123e99c18>"
      ]
     },
     "metadata": {},
     "output_type": "display_data"
    },
    {
     "data": {
      "image/png": "[encoded data removed]",
      "text/plain": [
       "<matplotlib.figure.Figure at 0x120e495f8>"
      ]
     },
     "metadata": {},
     "output_type": "display_data"
    }
   ],
   "source": [
    "importance = gbdt.get_score(importance_type='weight')\n",
    "importance = sorted(importance.items(), key = lambda x:x[1], reverse = True)\n",
    "df = pd.DataFrame(importance, columns=['feature', 'fscore']).sort_values(by = 'fscore')\n",
    "df['fscore'] = df['fscore'] / df['fscore'].sum()\n",
    "\n",
    "plt.figure()\n",
    "df[-15:].plot(kind='barh', x='feature', y='fscore', legend=False, figsize=(20, 11))\n",
    "plt.title('XGBoost Feature Importance (measured by the average gain of the feature when it is used in trees)')\n",
    "plt.xlabel('relative importance')\n",
    "plt.savefig('_FeatureImportance_weight.png')"
   ]
  },
  {
   "cell_type": "markdown",
   "metadata": {},
   "source": [
    "### Parameter tuning"
   ]
  },
  {
   "cell_type": "code",
   "execution_count": 107,
   "metadata": {},
   "outputs": [
    {
     "name": "stdout",
     "output_type": "stream",
     "text": [
      "{'base_score': 0.5, 'colsample_bylevel': 1, 'colsample_bytree': 1, 'gamma': 0, 'learning_rate': 0.1, 'max_delta_step': 0, 'max_depth': 3, 'min_child_weight': 1, 'missing': None, 'n_estimators': 100, 'nthread': -1, 'objective': 'binary:logistic', 'reg_alpha': 0, 'reg_lambda': 1, 'scale_pos_weight': 1, 'seed': 50, 'silent': True, 'subsample': 1}\n"
     ]
    }
   ],
   "source": [
    "print(xgb.get_params())"
   ]
  },
  {
   "cell_type": "code",
   "execution_count": 108,
   "metadata": {},
   "outputs": [
    {
     "data": {
      "text/plain": [
       "GridSearchCV(cv=3, error_score='raise',\n",
       "       estimator=XGBClassifier(base_score=0.5, colsample_bylevel=1, colsample_bytree=1,\n",
       "       gamma=0, learning_rate=0.1, max_delta_step=0, max_depth=3,\n",
       "       min_child_weight=1, missing=None, n_estimators=100, nthread=-1,\n",
       "       objective='binary:logistic', reg_alpha=0, reg_lambda=1,\n",
       "       scale_pos_weight=1, seed=50, silent=True, subsample=1),\n",
       "       fit_params=None, iid=True, n_jobs=1,\n",
       "       param_grid={'learning_rate': [0.03, 0.01, 0.03], 'max_depth': [3, 4, 5], 'subsample': [0.7], 'colsample_bytree': [0.7], 'objective': ['reg:linear'], 'n_estimators': [100, 300, 500], 'gamma': [0]},\n",
       "       pre_dispatch='2*n_jobs', refit=True, return_train_score='warn',\n",
       "       scoring='roc_auc', verbose=0)"
      ]
     },
     "execution_count": 108,
     "metadata": {},
     "output_type": "execute_result"
    }
   ],
   "source": [
    "params = {\n",
    "        'learning_rate': [0.03, 0.01, 0.03],\n",
    "        'max_depth': [3,4,5],\n",
    "        'subsample': [0.7],\n",
    "        'colsample_bytree': [0.7],\n",
    "        'objective': ['reg:linear'],\n",
    "        'n_estimators': [100,300,500],\n",
    "        'gamma':[0]}\n",
    "\n",
    "gs_xgb = GridSearchCV(estimator=xgb, param_grid=params, cv=3, scoring='roc_auc')\n",
    "gs_xgb.fit(X_train,y_train)"
   ]
  },
  {
   "cell_type": "code",
   "execution_count": 110,
   "metadata": {},
   "outputs": [
    {
     "data": {
      "text/plain": [
       "{'colsample_bytree': 0.7,\n",
       " 'gamma': 0,\n",
       " 'learning_rate': 0.03,\n",
       " 'max_depth': 5,\n",
       " 'n_estimators': 500,\n",
       " 'objective': 'reg:linear',\n",
       " 'subsample': 0.7}"
      ]
     },
     "execution_count": 110,
     "metadata": {},
     "output_type": "execute_result"
    }
   ],
   "source": [
    "gs_xgb.best_params_"
   ]
  },
  {
   "cell_type": "code",
   "execution_count": 112,
   "metadata": {
    "collapsed": true
   },
   "outputs": [],
   "source": [
    "random_state = 50\n",
    "final_xgb_model = XGBClassifier(**gs_xgb.best_params_,seed=random_state).fit(X_train,y_train)"
   ]
  },
  {
   "cell_type": "code",
   "execution_count": 114,
   "metadata": {},
   "outputs": [
    {
     "name": "stdout",
     "output_type": "stream",
     "text": [
      "AUC Score\n",
      "Validation Results\n",
      "0.71607577305\n",
      "\n",
      "Test Results\n",
      "0.722384459009\n",
      "Validation Results\n",
      "[ 0.99970278  0.01604223]\n",
      "\n",
      "Test Results\n",
      "[ 0.99968341  0.01762707]\n"
     ]
    }
   ],
   "source": [
    "from sklearn.metrics import roc_auc_score\n",
    "### Validation Set\n",
    "y_val_xgb_gs_pred = final_xgb_model.predict_proba(X_val)\n",
    "print('AUC Score')\n",
    "print('Validation Results')\n",
    "# print clf_rf.score(x_val, y_val)\n",
    "print(roc_auc_score(y_val, y_val_xgb_gs_pred[:, 1]))\n",
    "\n",
    "### Testing part\n",
    "y_test_xgb_gs_pred = final_xgb_model.predict_proba(test_features)\n",
    "print ('\\nTest Results')\n",
    "print(roc_auc_score(test_target, y_test_xgb_gs_pred[:, 1]))\n",
    "\n",
    "\n",
    "from sklearn.metrics import recall_score\n",
    "\n",
    "### Validation Set\n",
    "\n",
    "print('Validation Results')\n",
    "# print(recall_score(y_val, rf.predict(X_val)))\n",
    "print(recall_score(y_val, final_xgb_model.predict(X_val),average = None))\n",
    "### Testing part\n",
    "\n",
    "print ('\\nTest Results')\n",
    "# print (recall_score(test_target, rf.predict(test_features)))\n",
    "print(recall_score(test_target, final_xgb_model.predict(test_features),average = None))\n"
   ]
  },
  {
   "cell_type": "code",
   "execution_count": 116,
   "metadata": {
    "collapsed": true
   },
   "outputs": [],
   "source": [
    "final_xgb_model = XGBClassifier(**gs_xgb.best_params_,seed=random_state).fit(x_train_res,y_train_res)"
   ]
  },
  {
   "cell_type": "code",
   "execution_count": 118,
   "metadata": {},
   "outputs": [
    {
     "name": "stdout",
     "output_type": "stream",
     "text": [
      "AUC Score\n",
      "Validation Results\n",
      "0.693815530892\n",
      "\n",
      "Test Results\n",
      "0.698613851655\n",
      "Validation Results\n",
      "[ 0.97480509  0.14738149]\n",
      "\n",
      "Test Results\n",
      "[ 0.97545115  0.15318947]\n"
     ]
    }
   ],
   "source": [
    "from sklearn.metrics import roc_auc_score\n",
    "### Validation Set\n",
    "y_val_xgb_gs_res = final_xgb_model.predict_proba(X_val_2)\n",
    "print('AUC Score')\n",
    "print('Validation Results')\n",
    "# print clf_rf.score(x_val, y_val)\n",
    "print(roc_auc_score(y_val, y_val_xgb_gs_res[:, 1]))\n",
    "\n",
    "### Testing part\n",
    "y_test_xgb_gs_res = final_xgb_model.predict_proba(test_features_2)\n",
    "print ('\\nTest Results')\n",
    "print(roc_auc_score(test_target, y_test_xgb_gs_res[:, 1]))\n",
    "\n",
    "\n",
    "from sklearn.metrics import recall_score\n",
    "\n",
    "### Validation Set\n",
    "\n",
    "print('Validation Results')\n",
    "# print(recall_score(y_val, rf.predict(X_val)))\n",
    "print(recall_score(y_val, final_xgb_model.predict(X_val_2),average = None))\n",
    "### Testing part\n",
    "\n",
    "print ('\\nTest Results')\n",
    "# print (recall_score(test_target, rf.predict(test_features)))\n",
    "print(recall_score(test_target, final_xgb_model.predict(test_features_2),average = None))\n"
   ]
  },
  {
   "cell_type": "code",
   "execution_count": 95,
   "metadata": {},
   "outputs": [
    {
     "name": "stdout",
     "output_type": "stream",
     "text": [
      "{'bootstrap': True, 'class_weight': None, 'criterion': 'entropy', 'max_depth': None, 'max_features': 'auto', 'max_leaf_nodes': None, 'min_impurity_decrease': 0.0, 'min_impurity_split': None, 'min_samples_leaf': 1, 'min_samples_split': 2, 'min_weight_fraction_leaf': 0.0, 'n_estimators': 100, 'n_jobs': 1, 'oob_score': False, 'random_state': 50, 'verbose': 0, 'warm_start': False}\n"
     ]
    }
   ],
   "source": [
    "## Random Forest\n",
    "## default parameters\n",
    "print(rf.get_params())"
   ]
  },
  {
   "cell_type": "code",
   "execution_count": 100,
   "metadata": {},
   "outputs": [
    {
     "data": {
      "text/plain": [
       "GridSearchCV(cv=3, error_score='raise',\n",
       "       estimator=RandomForestClassifier(bootstrap=True, class_weight=None, criterion='entropy',\n",
       "            max_depth=None, max_features='auto', max_leaf_nodes=None,\n",
       "            min_impurity_decrease=0.0, min_impurity_split=None,\n",
       "            min_samples_leaf=1, min_samples_split=2,\n",
       "            min_weight_fraction_leaf=0.0, n_estimators=100, n_jobs=1,\n",
       "            oob_score=False, random_state=50, verbose=0, warm_start=False),\n",
       "       fit_params=None, iid=True, n_jobs=1,\n",
       "       param_grid={'n_estimators': [100, 200, 300], 'max_features': [0.1, 0.3, 0.5, 0.7], 'max_depth': [4]},\n",
       "       pre_dispatch='2*n_jobs', refit=True, return_train_score='warn',\n",
       "       scoring='roc_auc', verbose=0)"
      ]
     },
     "execution_count": 100,
     "metadata": {},
     "output_type": "execute_result"
    }
   ],
   "source": [
    "from sklearn.model_selection import GridSearchCV\n",
    "params={\n",
    "        'n_estimators':[100,200,300],\n",
    "        'max_features':[0.1,0.3,0.5,0.7],\n",
    "        'max_depth':[4]}\n",
    "gs_rft = GridSearchCV(estimator=rf,param_grid=params,cv=3, scoring='roc_auc')   \n",
    "gs_rft.fit(X_train,y_train)\n",
    "\n"
   ]
  },
  {
   "cell_type": "code",
   "execution_count": 101,
   "metadata": {},
   "outputs": [
    {
     "data": {
      "text/plain": [
       "{'max_depth': 4, 'max_features': 0.7, 'n_estimators': 300}"
      ]
     },
     "execution_count": 101,
     "metadata": {},
     "output_type": "execute_result"
    }
   ],
   "source": [
    "gs_rft.best_params_"
   ]
  },
  {
   "cell_type": "code",
   "execution_count": 103,
   "metadata": {
    "collapsed": true
   },
   "outputs": [],
   "source": [
    "final_rf_model = RandomForestClassifier(**gs_rft.best_params_,random_state=50,n_jobs=-1,class_weight='balanced').fit(X_train,y_train)"
   ]
  },
  {
   "cell_type": "code",
   "execution_count": null,
   "metadata": {
    "collapsed": true
   },
   "outputs": [],
   "source": [
    "#### before sampling"
   ]
  },
  {
   "cell_type": "code",
   "execution_count": 104,
   "metadata": {},
   "outputs": [
    {
     "name": "stdout",
     "output_type": "stream",
     "text": [
      "AUC Score\n",
      "Validation Results\n",
      "0.665673133801\n",
      "\n",
      "Test Results\n",
      "0.670955452475\n",
      "Validation Results\n",
      "[ 0.60619813  0.63278824]\n",
      "\n",
      "Test Results\n",
      "[ 0.60251221  0.6401075 ]\n"
     ]
    }
   ],
   "source": [
    "from sklearn.metrics import roc_auc_score\n",
    "### Validation Set\n",
    "y_val_rf_gs_pred = final_rf_model.predict_proba(X_val)\n",
    "print('AUC Score')\n",
    "print('Validation Results')\n",
    "# print clf_rf.score(x_val, y_val)\n",
    "print(roc_auc_score(y_val, y_val_rf_gs_pred[:, 1]))\n",
    "\n",
    "### Testing part\n",
    "y_test_rf_gs_pred = final_rf_model.predict_proba(test_features)\n",
    "print ('\\nTest Results')\n",
    "print(roc_auc_score(test_target, y_test_rf_gs_pred[:, 1]))\n",
    "\n",
    "\n",
    "from sklearn.metrics import recall_score\n",
    "\n",
    "### Validation Set\n",
    "\n",
    "print('Validation Results')\n",
    "# print(recall_score(y_val, rf.predict(X_val)))\n",
    "print(recall_score(y_val, final_rf_model.predict(X_val),average = None))\n",
    "### Testing part\n",
    "\n",
    "print ('\\nTest Results')\n",
    "# print (recall_score(test_target, rf.predict(test_features)))\n",
    "print(recall_score(test_target, final_rf_model.predict(test_features),average = None))\n"
   ]
  },
  {
   "cell_type": "code",
   "execution_count": 105,
   "metadata": {
    "collapsed": true
   },
   "outputs": [],
   "source": [
    "final_rf_res_model = RandomForestClassifier(**gs_rft.best_params_,random_state=50,n_jobs=-1,class_weight='balanced').fit(x_train_res,y_train_res)"
   ]
  },
  {
   "cell_type": "code",
   "execution_count": null,
   "metadata": {
    "collapsed": true
   },
   "outputs": [],
   "source": [
    "### after sampling"
   ]
  },
  {
   "cell_type": "code",
   "execution_count": 113,
   "metadata": {},
   "outputs": [
    {
     "name": "stdout",
     "output_type": "stream",
     "text": [
      "AUC Score\n",
      "Validation Results\n",
      "0.649028722407\n",
      "\n",
      "Test Results\n",
      "0.652197258231\n",
      "Validation Results\n",
      "0.221279238253\n",
      "\n",
      "Test Results\n",
      "[ 0.91464802  0.22464627]\n"
     ]
    }
   ],
   "source": [
    "from sklearn.metrics import roc_auc_score\n",
    "### Validation Set\n",
    "y_val_rf_gs_res = final_rf_res_model.predict_proba(X_val)\n",
    "print('AUC Score')\n",
    "print('Validation Results')\n",
    "# print clf_rf.score(x_val, y_val)\n",
    "print(roc_auc_score(y_val, y_val_rf_gs_res[:, 1]))\n",
    "\n",
    "### Testing part\n",
    "y_test_rf_gs_res = final_rf_res_model.predict_proba(test_features)\n",
    "print ('\\nTest Results')\n",
    "print(roc_auc_score(test_target, y_test_rf_gs_res[:, 1]))\n",
    "\n",
    "\n",
    "from sklearn.metrics import recall_score\n",
    "\n",
    "### Validation Set\n",
    "\n",
    "print('Validation Results')\n",
    "# print(recall_score(y_val, rf.predict(X_val)))\n",
    "print(recall_score(y_val, final_rf_res_model.predict(X_val)))\n",
    "### Testing part\n",
    "\n",
    "print ('\\nTest Results')\n",
    "# print (recall_score(test_target, rf.predict(test_features)))\n",
    "print(recall_score(test_target, final_rf_res_model.predict(test_features),average = None))"
   ]
  },
  {
   "cell_type": "code",
   "execution_count": 115,
   "metadata": {},
   "outputs": [
    {
     "data": {
      "image/png": "[encoded data removed]",
      "text/plain": [
       "<matplotlib.figure.Figure at 0x266827278>"
      ]
     },
     "metadata": {},
     "output_type": "display_data"
    }
   ],
   "source": [
    "## ROC Curve\n",
    "from sklearn import metrics\n",
    "import matplotlib.pyplot as plt\n",
    "% matplotlib inline\n",
    "\n",
    "# random forest\n",
    "fpr_rf, tpr_rf, thresholds_rf = metrics.roc_curve(test_target, y_test_rf_gs_res[:, 1], pos_label=1)\n",
    "rf_roc_auc = metrics.auc(fpr_rf,tpr_rf)\n",
    "\n",
    "# plt.plot(fpr_rf,tpr_rf, color=\"blue\")\n",
    "\n",
    "# XGBoost\n",
    "fpr_xgb, tpr_xgb, thresholds_xgb = metrics.roc_curve(test_target, y_test_xgb_pred_prob[:, 1], pos_label=1)\n",
    "xgb_roc_auc = metrics.auc(fpr_xgb,tpr_xgb)\n",
    "\n",
    "# plt.plot(fpr_xgb, tpr_xgb, color=\"green\")\n",
    "\n",
    "\n",
    "plt.figure()\n",
    "plt.plot(fpr_rf, tpr_rf, color='darkorange',\n",
    "         lw=2, label='Random Forest (area = %0.2f)' % rf_roc_auc)\n",
    "plt.plot(fpr_xgb, tpr_xgb, color='darkgreen',\n",
    "         lw=2, label='XGBoost (area = %0.2f)' % xgb_roc_auc)\n",
    "plt.plot([0, 1], [0, 1], color='navy', lw=2, linestyle='--')\n",
    "plt.xlim([0.0, 1.0])\n",
    "plt.ylim([0.0, 1.05])\n",
    "plt.xlabel('False Positive Rate')\n",
    "plt.ylabel('True Positive Rate')\n",
    "plt.title('ROC Curve')\n",
    "plt.legend(loc=\"lower right\")\n",
    "plt.show()"
   ]
  },
  {
   "cell_type": "code",
   "execution_count": null,
   "metadata": {
    "collapsed": true
   },
   "outputs": [],
   "source": []
  }
 ],
 "metadata": {
  "kernelspec": {
   "display_name": "Python 3",
   "language": "python",
   "name": "python3"
  },
  "language_info": {
   "codemirror_mode": {
    "name": "ipython",
    "version": 3
   },
   "file_extension": ".py",
   "mimetype": "text/x-python",
   "name": "python",
   "nbconvert_exporter": "python",
   "pygments_lexer": "ipython3",
   "version": "3.6.3"
  }
 },
 "nbformat": 4,
 "nbformat_minor": 2
}
